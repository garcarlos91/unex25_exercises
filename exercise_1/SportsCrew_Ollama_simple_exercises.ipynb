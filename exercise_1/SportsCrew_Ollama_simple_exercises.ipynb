{
 "cells": [
  {
   "cell_type": "markdown",
   "id": "b1c864d3",
   "metadata": {},
   "source": [
    "\n",
    "# 📝 SportsCrew · **Ollama (ejercicio para alumnos)**\n",
    "Completa las celdas marcadas con **TODO**. Hay **pistas** en los comentarios de cada celda.\n",
    "\n",
    "**Objetivo**: generar un *artículo breve* y **5 tweets** sobre una liga deportiva usando **Ollama (mistral)** con **CrewAI**.\n",
    "\n",
    "**Documentación útil**\n",
    "- **Ollama (oficial):** https://github.com/ollama/ollama  \n",
    "- **CrewAI (conceptos):** https://docs.crewai.com/concepts/  \n",
    "- **CrewAI (API referencia):** https://docs.crewai.com/reference/  \n",
    "- **LiteLLM (enrutador):** https://docs.litellm.ai/  \n",
    "- **LangChain (ecosistema):** https://python.langchain.com/docs/  \n",
    "- **DuckDuckGo (herramienta LC):** https://python.langchain.com/docs/integrations/tools/ddg  \n",
    "- **Requests (HTTP):** https://requests.readthedocs.io/  \n",
    "- **python-dotenv:** https://github.com/theskumar/python-dotenv  \n",
    "- **json (stdlib):** https://docs.python.org/3/library/json.html\n",
    "\n"
   ]
  },
  {
   "cell_type": "markdown",
   "id": "87305c53",
   "metadata": {},
   "source": [
    "\n",
    "## 1) Instalar dependencias en este kernel\n",
    "Rellena la lista `packages` con las librerías necesarias y completa la llamada a `pip install`.\n",
    "\n",
    "**Pistas**:\n",
    "- Necesitarás: `crewai`, `litellm`, `langchain`, `langchain-community`, `langchain-openai`, `duckduckgo-search`, `requests`, `python-dotenv`.\n",
    "- Usa `sys.executable -m pip install -U ...` para asegurar instalación en este kernel.\n"
   ]
  },
  {
   "cell_type": "code",
   "execution_count": 1,
   "id": "2ee5c144",
   "metadata": {},
   "outputs": [
    {
     "name": "stdout",
     "output_type": "stream",
     "text": [
      "Todo estaba instalado ✅\n"
     ]
    }
   ],
   "source": [
    "import importlib, sys, subprocess\n",
    "packages = [\n",
    "    \"crewai>=0.63.6\",\n",
    "    \"litellm>=1.40.11\",\n",
    "    \"langchain>=0.2.10\",\n",
    "    \"langchain-community>=0.2.10\",\n",
    "    \"langchain-openai\",\n",
    "    \"duckduckgo-search\",\n",
    "    \"requests\",\n",
    "    \"python-dotenv\"\n",
    "]\n",
    "to_install = []\n",
    "for spec in packages:\n",
    "    mod = spec.split(\"==\")[0].split(\">=\")[0].replace(\"-\", \"_\")\n",
    "    try:\n",
    "        importlib.import_module(mod if mod!=\"python_dotenv\" else \"dotenv\")\n",
    "    except Exception:\n",
    "        to_install.append(spec)\n",
    "if to_install:\n",
    "    print(\"Instalando:\", to_install)\n",
    "    subprocess.check_call([sys.executable, \"-m\", \"pip\", \"install\", \"-U\", *to_install])\n",
    "else:\n",
    "    print(\"Todo estaba instalado ✅\")\n"
   ]
  },
  {
   "cell_type": "markdown",
   "id": "9490e526",
   "metadata": {},
   "source": [
    "\n",
    "## 2) Comprobar **Ollama** y el modelo `mistral`\n",
    "Debes verificar que:\n",
    "1) El binario `ollama` está en el PATH.\n",
    "2) La API local responde en `http://localhost:11434/api/tags`.\n",
    "3) El modelo `mistral` está descargado.\n",
    "\n",
    "**Pistas**:\n",
    "- Usa `shutil.which(\"ollama\")` para comprobar el binario.\n",
    "- Usa `requests.get(url, timeout=5)` y revisa `resp.ok`.\n",
    "- La respuesta JSON tiene una clave `models` con nombres; busca `\"mistral\"`.\n"
   ]
  },
  {
   "cell_type": "code",
   "execution_count": 2,
   "id": "9e953fd3",
   "metadata": {},
   "outputs": [
    {
     "name": "stdout",
     "output_type": "stream",
     "text": [
      "Binario 'ollama' en PATH: ✅\n",
      "Ollama API: ✅ OK\n",
      "Modelos locales: ['mistral:instruct', 'mistral:latest']\n",
      "'mistral' presente: ✅\n"
     ]
    }
   ],
   "source": [
    "\n",
    "\n",
    "import shutil, requests\n",
    "print(\"Binario 'ollama' en PATH:\", \"✅\" if shutil.which(\"ollama\") else \"❌\")\n",
    "try:\n",
    "    r = requests.get(\"http://localhost:11434/api/tags\", timeout=5)\n",
    "    if r.ok:\n",
    "        tags = [m.get(\"name\") for m in r.json().get(\"models\", []) if isinstance(m, dict)]\n",
    "        print(\"Ollama API:\", \"✅ OK\")\n",
    "        print(\"Modelos locales:\", tags)\n",
    "        print(\"'mistral' presente:\", \"✅\" if any(\"mistral\" in (t or \"\") for t in tags) else \"❌ (ejecuta: ollama pull mistral)\")\n",
    "    else:\n",
    "        print(\"Ollama API respondió con error HTTP:\", r.status_code)\n",
    "except Exception as e:\n",
    "    print(\"No se pudo conectar a http://localhost:11434. ¿Ejecutaste 'ollama serve'?\")\n",
    "    print(\"Detalle:\", e)\n"
   ]
  },
  {
   "cell_type": "markdown",
   "id": "5905dea1",
   "metadata": {},
   "source": [
    "\n",
    "\n",
    "## 3) Elegir deporte y liga\n",
    "Cambia estos valores si quieres otra competición. Ejemplos:\n",
    "1. **soccer**: \n",
    "- `esp.1` (LaLiga)\n",
    "- `eng.1` (Premier)\n",
    "- `ita.1` (Calcio)\n",
    "- `fra.1` (ligue 1) \n",
    "- `usa.1` (MLS)\n",
    "2. **basketball**: \n",
    "- `nba`\n",
    "- `wnba`\n",
    "3. **football**: \n",
    "- `nfl` \n",
    "4. **baseball**: \n",
    "- `mlb` \n",
    "5. **hockey**: \n",
    "- `nhl`\n",
    "\n"
   ]
  },
  {
   "cell_type": "code",
   "execution_count": 3,
   "id": "b2e7bdf1",
   "metadata": {},
   "outputs": [
    {
     "name": "stdout",
     "output_type": "stream",
     "text": [
      "Deporte: soccer | Liga: esp.1\n"
     ]
    }
   ],
   "source": [
    "\n",
    "SPORT = \"soccer\"\n",
    "LEAGUE = \"esp.1\"\n",
    "MAX_ARTICLES = 5\n",
    "print(\"Deporte:\", SPORT, \"| Liga:\", LEAGUE)\n"
   ]
  },
  {
   "cell_type": "markdown",
   "id": "4d71bed8",
   "metadata": {},
   "source": [
    "\n",
    "## 4) Descargar noticias (ESPN)\n",
    "Construye la URL y parsea el JSON. Guarda los artículos en `articles` (máximo `MAX_ARTICLES`).\n",
    "\n",
    "**Pistas**:\n",
    "- URL base: `http://site.api.espn.com/apis/site/v2/sports/{sport}/{league}/news`\n",
    "- A veces los datos están en `data[\"articles\"]`; otras en `data[\"feed\"][\"entries\"]`.\n",
    "- Para `entries`, normaliza a `{\"headline\": ...}`.\n"
   ]
  },
  {
   "cell_type": "code",
   "execution_count": 4,
   "id": "d27046f8",
   "metadata": {},
   "outputs": [
    {
     "name": "stdout",
     "output_type": "stream",
     "text": [
      "Artículos encontrados: 6\n"
     ]
    }
   ],
   "source": [
    "import requests\n",
    "\n",
    "def get_news_url(sport, league):\n",
    "    \"\"\"\n",
    "    Genera la URL para obtener noticias de ESPN según el deporte y la liga.\n",
    "\n",
    "    Args:\n",
    "        sport (str): Deporte (por ejemplo, \"soccer\").\n",
    "        league (str): Liga específica (por ejemplo, \"esp.1\" para LaLiga).\n",
    "\n",
    "    Returns:\n",
    "        str: URL para obtener las noticias.\n",
    "    \"\"\"\n",
    "    return f\"http://site.api.espn.com/apis/site/v2/sports/{sport}/{league}/news\"\n",
    "\n",
    "# Construye la URL para el deporte y la liga seleccionados.\n",
    "url = get_news_url(SPORT, LEAGUE)\n",
    "\n",
    "# Realiza una solicitud HTTP para obtener las noticias.\n",
    "resp = requests.get(url, timeout=15)\n",
    "resp.raise_for_status()  # Lanza una excepción si la solicitud falla.\n",
    "\n",
    "# Procesa la respuesta JSON.\n",
    "data = resp.json()\n",
    "articles = []  # Lista para almacenar los artículos.\n",
    "\n",
    "# Extrae los artículos de la respuesta si el formato es válido.\n",
    "if isinstance(data, dict):\n",
    "    if \"articles\" in data and isinstance(data[\"articles\"], list):\n",
    "        # Si la clave \"articles\" está presente, utiliza su contenido.\n",
    "        articles = data[\"articles\"]\n",
    "    elif \"feed\" in data and isinstance(data[\"feed\"], dict):\n",
    "        # Si la clave \"feed\" está presente, extrae los titulares de las entradas.\n",
    "        entries = data[\"feed\"].get(\"entries\", [])\n",
    "        articles = [{\"headline\": e.get(\"headline\") or e.get(\"title\", \"\")} for e in entries]\n",
    "\n",
    "# Imprime la cantidad de artículos encontrados.\n",
    "print(f\"Artículos encontrados: {len(articles)}\")\n",
    "\n",
    "# Si no se encontraron artículos, muestra un mensaje.\n",
    "if not articles:\n",
    "    print(\"No hay noticias ahora mismo. Prueba otra liga o vuelve más tarde.\")\n",
    "\n",
    "# Limita el número de artículos a procesar según MAX_ARTICLES.\n",
    "articles = articles[:MAX_ARTICLES]\n"
   ]
  },
  {
   "cell_type": "markdown",
   "id": "45c63289",
   "metadata": {},
   "source": [
    "\n",
    "## 5) Búsqueda rápida (opcional) con DuckDuckGo\n",
    "Intenta crear un wrapper y un `run` de búsqueda para obtener contexto por titular."
   ]
  },
  {
   "cell_type": "code",
   "execution_count": 5,
   "id": "2845c99a",
   "metadata": {},
   "outputs": [],
   "source": [
    "try:\n",
    "    from langchain_community.utilities import DuckDuckGoSearchAPIWrapper\n",
    "    try:\n",
    "        from langchain_community.tools import DuckDuckGoSearchRun\n",
    "    except Exception:\n",
    "        from langchain.tools import DuckDuckGoSearchRun\n",
    "    ddg = DuckDuckGoSearchRun(api_wrapper=DuckDuckGoSearchAPIWrapper(region=\"us-en\", time=\"d\"))\n",
    "except Exception as e:\n",
    "    ddg = None\n",
    "    print(\"DuckDuckGo no disponible, seguimos sin búsqueda. Detalle:\", e)\n"
   ]
  },
  {
   "cell_type": "markdown",
   "id": "20612784",
   "metadata": {},
   "source": [
    "\n",
    "## 6) Configurar el modelo (Ollama · mistral) para CrewAI\n",
    "Crea un `LLM` de CrewAI que apunte a Ollama.\n"
   ]
  },
  {
   "cell_type": "code",
   "execution_count": null,
   "id": "a12bfccd",
   "metadata": {},
   "outputs": [],
   "source": [
    "\n",
    "from crewai import LLM\n",
    "\n",
    "# TODO 6.1: crea la instancia de LLM para Ollama/mistral\n",
    "llm = None  # reemplaza por LLM(...)\n",
    "\n",
    "print(\"LLM configurado:\", \"✅\" if llm else \"❌\")\n"
   ]
  },
  {
   "cell_type": "markdown",
   "id": "552199a4",
   "metadata": {},
   "source": [
    "\n",
    "## 7) Resúmenes (120–180 palabras)\n",
    "Para cada artículo, crea un agente **Investigador** y genera un resumen.\n",
    "\n",
    "**Pistas**:\n",
    "- Importa: `from crewai import Agent, Task, Crew`\n",
    "- `headline = art.get(\"headline\") or art.get(\"title\") or \"\"`\n",
    "- Si `ddg` existe y hay `headline`, llama a `ddg.run(headline)` (maneja excepciones).\n",
    "- Prompt: “Resume en 120–180 palabras. SOLO el resumen...” (añade titular y contexto).\n",
    "\n",
    "Guarda cada texto en la lista `summaries`.\n"
   ]
  },
  {
   "cell_type": "code",
   "execution_count": null,
   "id": "b5bdc2b6",
   "metadata": {},
   "outputs": [],
   "source": [
    "\n",
    "# TODO 7.1: importa Agent, Task, Crew\n",
    "# from crewai import ...\n",
    "\n",
    "summaries = []\n",
    "for art in articles:\n",
    "    # TODO 7.2: extrae titular y contexto (opcional con ddg)\n",
    "    # headline = ...\n",
    "    # ctx = ...\n",
    "    # TODO 7.3: crea el Agent (role=\"Investigador\", goal, backstory, llm=llm)\n",
    "    # researcher = ...\n",
    "    # TODO 7.4: define el prompt y la Task\n",
    "    # prompt = f\"\"\" ... \"\"\"\n",
    "    # task = Task(...)\n",
    "    # TODO 7.5: ejecuta con Crew y agrega el resultado a summaries\n",
    "    # result = Crew(...).kickoff()\n",
    "    # text = str(getattr(result, \"raw_output\", result)).strip()\n",
    "    # summaries.append(text)\n",
    "    pass\n",
    "\n",
    "print(f\"Resúmenes creados: {len(summaries)}\")\n"
   ]
  },
  {
   "cell_type": "markdown",
   "id": "72e133a9",
   "metadata": {},
   "source": [
    "\n",
    "## 8) Artículo (200–250 palabras, 2–3 párrafos)\n",
    "Crea un agente **Periodista** y genera el artículo usando los resúmenes.\n",
    "\n",
    "**Pistas**:\n",
    "- Une `summaries` con `\\n\\n` → `summaries_text`.\n",
    "- Agent con `role=\"Periodista Deportivo\"` y `llm=llm`.\n",
    "- Prompt claro: “Escribe un artículo de 200–250 palabras (2–3 párrafos)...”\n",
    "- Ejecuta `Crew(...).kickoff()` y guarda en `article_text`.\n"
   ]
  },
  {
   "cell_type": "code",
   "execution_count": null,
   "id": "c07c2a68",
   "metadata": {},
   "outputs": [],
   "source": [
    "\n",
    "# TODO 8.1: une resúmenes y crea Agent + Task + Crew\n",
    "# summaries_text = ...\n",
    "# journalist = ...\n",
    "# article_prompt = f\"\"\" ... \"\"\"\n",
    "# article_task = ...\n",
    "# article_text = str(Crew(...).kickoff())\n",
    "\n",
    "# print(\"Artículo listo ✅\\n\")\n",
    "# print(article_text)\n"
   ]
  },
  {
   "cell_type": "markdown",
   "id": "6b7678d4",
   "metadata": {},
   "source": [
    "\n",
    "## 9) 5 tweets (1 línea c/u, con emojis y 1–2 hashtags)\n",
    "Crea un agente **Creador de Tweets** y genera EXACTAMENTE 5 líneas numeradas (1–5).\n",
    "\n",
    "**Pistas**:\n",
    "- Cada tweet debe referirse a un **dato distinto** del artículo.\n",
    "- Prompt: “Crea EXACTAMENTE 5 tweets numerados (1–5)... máx 40 palabras, 1–2 hashtags, emojis.”\n",
    "- Muestra las 5 líneas resultantes.\n"
   ]
  },
  {
   "cell_type": "code",
   "execution_count": null,
   "id": "d41eddbd",
   "metadata": {},
   "outputs": [],
   "source": [
    "\n",
    "# TODO 9.1: crea Agent + Task con el artículo como contexto y ejecuta\n",
    "# influencer = ...\n",
    "# tweets_prompt = f\"\"\" ... {article_text} ... \"\"\"\n",
    "# tweets_task = ...\n",
    "# tweets_text = str(Crew(...).kickoff())\n",
    "\n",
    "# TODO 9.2: imprime únicamente 5 líneas (si vienen más, recorta)\n",
    "# lines = [ln.strip() for ln in tweets_text.splitlines() if ln.strip()]\n",
    "# for ln in lines[:5]:\n",
    "#     print(ln)\n"
   ]
  }
 ],
 "metadata": {
  "kernelspec": {
   "display_name": "unex25",
   "language": "python",
   "name": "python3"
  },
  "language_info": {
   "codemirror_mode": {
    "name": "ipython",
    "version": 3
   },
   "file_extension": ".py",
   "mimetype": "text/x-python",
   "name": "python",
   "nbconvert_exporter": "python",
   "pygments_lexer": "ipython3",
   "version": "3.10.18"
  }
 },
 "nbformat": 4,
 "nbformat_minor": 5
}
