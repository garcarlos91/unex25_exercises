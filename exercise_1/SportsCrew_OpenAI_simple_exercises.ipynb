{
 "cells": [
  {
   "cell_type": "markdown",
   "id": "12ac8d39",
   "metadata": {},
   "source": [
    "\n",
    "# 📝 SportsCrew · **OpenAI (ejercicio para alumnos)**\n",
    "Completa las celdas marcadas con **TODO**. Cada celda incluye **pistas** para ayudarte.\n",
    "\n",
    "**Objetivo**: generar un *artículo breve* y **5 tweets** sobre una liga deportiva usando **OpenAI** con **CrewAI**.\n"
   ]
  },
  {
   "cell_type": "markdown",
   "id": "c24384bb",
   "metadata": {},
   "source": [
    "\n",
    "## 1) Instalar dependencias en este kernel\n",
    "Rellena la lista `packages` con las librerías necesarias y completa la llamada a `pip install`.\n",
    "\n",
    "**Pistas**:\n",
    "- Necesitarás: `crewai`, `litellm`, `langchain`, `langchain-community`, `langchain-openai`, `duckduckgo-search`, `requests`, `python-dotenv`.\n",
    "- Usa `sys.executable -m pip install -U ...` para asegurar instalación en este kernel.\n"
   ]
  },
  {
   "cell_type": "code",
   "execution_count": null,
   "id": "baa5542e",
   "metadata": {},
   "outputs": [],
   "source": [
    "\n",
    "import importlib, sys, subprocess\n",
    "packages = [\n",
    "    \"crewai>=0.63.6\",\n",
    "    \"litellm>=1.40.11\",\n",
    "    \"langchain>=0.2.10\",\n",
    "    \"langchain-community>=0.2.10\",\n",
    "    \"langchain-openai\",\n",
    "    \"duckduckgo-search\",\n",
    "    \"requests\",\n",
    "    \"python-dotenv\"\n",
    "]\n",
    "to_install = []\n",
    "for spec in packages:\n",
    "    mod = spec.split(\"==\")[0].split(\">=\")[0].replace(\"-\", \"_\")\n",
    "    try:\n",
    "        importlib.import_module(mod if mod!=\"python_dotenv\" else \"dotenv\")\n",
    "    except Exception:\n",
    "        to_install.append(spec)\n",
    "if to_install:\n",
    "    print(\"Instalando:\", to_install)\n",
    "    subprocess.check_call([sys.executable, \"-m\", \"pip\", \"install\", \"-U\", *to_install])\n",
    "else:\n",
    "    print(\"Todo estaba instalado ✅\")"
   ]
  },
  {
   "cell_type": "markdown",
   "id": "3c493de6",
   "metadata": {},
   "source": [
    "\n",
    "## 2) Configurar la **OPENAI_API_KEY**\n",
    "Pide al usuario su API key de OpenAI y guárdala en la variable de entorno.\n",
    "\n",
    "**Pistas**:\n",
    "- Usa `from getpass import getpass` para pedir la clave sin mostrarla.\n",
    "- Si `OPENAI_API_KEY` no existe, asígnala con `os.environ[\"OPENAI_API_KEY\"] = getpass(\"...\")`.\n"
   ]
  },
  {
   "cell_type": "code",
   "execution_count": null,
   "id": "9aa10e26",
   "metadata": {},
   "outputs": [],
   "source": [
    "import os\n",
    "from getpass import getpass\n",
    "if not os.getenv(\"OPENAI_API_KEY\"):\n",
    "    try:\n",
    "        os.environ[\"OPENAI_API_KEY\"] = getpass(\"Introduce tu OPENAI_API_KEY (no se mostrará): \")\n",
    "    except Exception:\n",
    "        print(\"No se pudo pedir la clave de forma segura. Define la variable OPENAI_API_KEY en tu entorno.\")\n",
    "print(\"API Key definida:\", \"✅\" if os.getenv(\"OPENAI_API_KEY\") else \"❌\")"
   ]
  },
  {
   "cell_type": "markdown",
   "id": "004467a7",
   "metadata": {},
   "source": [
    "\n",
    "## 3) Elegir deporte y liga\n",
    "Cambia estos valores si quieres otra competición. Ejemplos:\n",
    "1. **soccer**: \n",
    "- `esp.1` (LaLiga)\n",
    "- `eng.1` (Premier)\n",
    "- `ita.1` (Calcio)\n",
    "- `fra.1` (ligue 1) \n",
    "- `usa.1` (MLS)\n",
    "2. **basketball**: \n",
    "- `nba`\n",
    "- `wnba`\n",
    "3. **football**: \n",
    "- `nfl` \n",
    "4. **baseball**: \n",
    "- `mlb` \n",
    "5. **hockey**: \n",
    "- `nhl`\n",
    "\n"
   ]
  },
  {
   "cell_type": "code",
   "execution_count": null,
   "id": "583416ec",
   "metadata": {},
   "outputs": [],
   "source": [
    "\n",
    "# TODO 3.1: elige deporte y liga\n",
    "SPORT = \"\"   # p.ej., \"soccer\"\n",
    "LEAGUE = \"\"  # p.ej., \"esp.1\"\n",
    "MAX_ARTICLES = 5\n",
    "\n",
    "print(\"Deporte:\", SPORT, \"| Liga:\", LEAGUE, \"| Máx artículos:\", MAX_ARTICLES)\n"
   ]
  },
  {
   "cell_type": "markdown",
   "id": "0ff45f36",
   "metadata": {},
   "source": [
    "\n",
    "## 4) Descargar noticias (ESPN)\n",
    "Construye la URL y parsea el JSON. Guarda los artículos en `articles` (máximo `MAX_ARTICLES`).\n",
    "\n",
    "**Pistas**:\n",
    "- URL base: `http://site.api.espn.com/apis/site/v2/sports/{sport}/{league}/news`\n",
    "- A veces los datos están en `data[\"articles\"]`; otras en `data[\"feed\"][\"entries\"]`.\n",
    "- Para `entries`, normaliza a `{\"headline\": ...}`.\n"
   ]
  },
  {
   "cell_type": "code",
   "execution_count": null,
   "id": "3bdce2e1",
   "metadata": {},
   "outputs": [],
   "source": [
    "\n",
    "import requests\n",
    "\n",
    "# TODO 4.1: construye la URL\n",
    "# url = ...\n",
    "\n",
    "# TODO 4.2: GET y .json()\n",
    "# resp = ...\n",
    "# data = ...\n",
    "\n",
    "# TODO 4.3: extrae lista de artículos; normaliza si vienen en 'feed'/'entries'\n",
    "articles = []\n",
    "# if isinstance(data, dict):\n",
    "#     if ...:\n",
    "#         articles = data[\"articles\"]\n",
    "#     elif ...:\n",
    "#         entries = data[\"feed\"].get(\"entries\", [])\n",
    "#         articles = [{\"headline\": e.get(\"headline\") or e.get(\"title\", \"\")} for e in entries]\n",
    "\n",
    "print(f\"Artículos encontrados: {len(articles)}\")\n",
    "articles = articles[:MAX_ARTICLES]\n"
   ]
  },
  {
   "cell_type": "markdown",
   "id": "c93df100",
   "metadata": {},
   "source": [
    "\n",
    "## 5) Búsqueda rápida (opcional) con DuckDuckGo\n",
    "Intenta crear un wrapper y un `run` de búsqueda para obtener contexto por titular.\n",
    "\n",
    "**Pistas**:\n",
    "- `from langchain_community.utilities import DuckDuckGoSearchAPIWrapper`\n",
    "- `from langchain_community.tools import DuckDuckGoSearchRun` (o `from langchain.tools import DuckDuckGoSearchRun`)\n",
    "- Crea el wrapper con `region=\"us-en\", time=\"d\"`\n"
   ]
  },
  {
   "cell_type": "code",
   "execution_count": null,
   "id": "97d14a67",
   "metadata": {},
   "outputs": [],
   "source": [
    "\n",
    "ddg = None\n",
    "try:\n",
    "    # TODO 5.1: importa las clases requeridas\n",
    "    # from ...\n",
    "    # wrapper = DuckDuckGoSearchAPIWrapper(region=\"us-en\", time=\"d\")\n",
    "    # ddg = DuckDuckGoSearchRun(api_wrapper=wrapper)\n",
    "    pass\n",
    "except Exception as e:\n",
    "    print(\"DuckDuckGo no disponible. Detalle:\", e)\n"
   ]
  },
  {
   "cell_type": "markdown",
   "id": "a456ce22",
   "metadata": {},
   "source": [
    "\n",
    "## 6) Configurar el modelo (OpenAI) para CrewAI\n",
    "Crea un `LLM` de CrewAI para usar OpenAI.\n",
    "\n",
    "**Pistas**:\n",
    "- Usa un nombre de modelo como `gpt-4o-mini` (o el que prefieras).\n",
    "- CrewAI usa LiteLLM: para forzar OpenAI, usa `model=f\"openai/{MODEL_NAME}\"`.\n",
    "- Pasa `api_key=os.getenv(\"OPENAI_API_KEY\")` y `temperature=0.2`.\n"
   ]
  },
  {
   "cell_type": "code",
   "execution_count": null,
   "id": "541a1f10",
   "metadata": {},
   "outputs": [],
   "source": [
    "\n",
    "import os\n",
    "from crewai import LLM\n",
    "\n",
    "# TODO 6.1: define un nombre de modelo (por ejemplo, desde env OPENAI_MODEL o por defecto)\n",
    "# MODEL_NAME = ...  # p.ej., os.getenv(\"OPENAI_MODEL\", \"gpt-4o-mini\")\n",
    "\n",
    "# TODO 6.2: crea la instancia LLM para OpenAI\n",
    "llm = None  # reemplaza por LLM(model=f\"openai/{MODEL_NAME}\", temperature=0.2, api_key=os.getenv(\"OPENAI_API_KEY\"))\n",
    "\n",
    "print(\"LLM configurado:\", \"✅\" if llm else \"❌\")\n"
   ]
  },
  {
   "cell_type": "markdown",
   "id": "13e86095",
   "metadata": {},
   "source": [
    "\n",
    "## 7) Resúmenes (120–180 palabras)\n",
    "Para cada artículo, crea un agente **Investigador** y genera un resumen.\n",
    "\n",
    "**Pistas**:\n",
    "- Importa: `from crewai import Agent, Task, Crew`\n",
    "- `headline = art.get(\"headline\") or art.get(\"title\") or \"\"`\n",
    "- Si `ddg` existe y hay `headline`, llama a `ddg.run(headline)` (maneja excepciones).\n",
    "- Prompt: “Resume en 120–180 palabras. SOLO el resumen...” (añade titular y contexto).\n",
    "\n",
    "Guarda cada texto en la lista `summaries`.\n"
   ]
  },
  {
   "cell_type": "code",
   "execution_count": null,
   "id": "a11aceeb",
   "metadata": {},
   "outputs": [],
   "source": [
    "\n",
    "# TODO 7.1: importa Agent, Task, Crew\n",
    "# from crewai import ...\n",
    "\n",
    "summaries = []\n",
    "for art in articles:\n",
    "    # TODO 7.2: extrae titular y contexto (opcional con ddg)\n",
    "    # headline = ...\n",
    "    # ctx = ...\n",
    "    # TODO 7.3: crea el Agent (role=\"Investigador\", goal, backstory, llm=llm)\n",
    "    # researcher = ...\n",
    "    # TODO 7.4: define el prompt y la Task\n",
    "    # prompt = f\"\"\" ... \"\"\"\n",
    "    # task = Task(...)\n",
    "    # TODO 7.5: ejecuta con Crew y agrega el resultado a summaries\n",
    "    # result = Crew(...).kickoff()\n",
    "    # text = str(getattr(result, \"raw_output\", result)).strip()\n",
    "    # summaries.append(text)\n",
    "    pass\n",
    "\n",
    "print(f\"Resúmenes creados: {len(summaries)}\")\n"
   ]
  },
  {
   "cell_type": "markdown",
   "id": "70dfff0e",
   "metadata": {},
   "source": [
    "\n",
    "## 8) Artículo (200–250 palabras, 2–3 párrafos)\n",
    "Crea un agente **Periodista** y genera el artículo usando los resúmenes.\n",
    "\n",
    "**Pistas**:\n",
    "- Une `summaries` con `\\n\\n` → `summaries_text`.\n",
    "- Agent con `role=\"Periodista Deportivo\"` y `llm=llm`.\n",
    "- Prompt claro: “Escribe un artículo de 200–250 palabras (2–3 párrafos)...”\n",
    "- Ejecuta `Crew(...).kickoff()` y guarda en `article_text`.\n"
   ]
  },
  {
   "cell_type": "code",
   "execution_count": null,
   "id": "15da27bc",
   "metadata": {},
   "outputs": [],
   "source": [
    "\n",
    "# TODO 8.1: une resúmenes y crea Agent + Task + Crew\n",
    "# summaries_text = ...\n",
    "# journalist = ...\n",
    "# article_prompt = f\"\"\" ... \"\"\"\n",
    "# article_task = ...\n",
    "# article_text = str(Crew(...).kickoff())\n",
    "\n",
    "# print(\"Artículo listo ✅\\n\")\n",
    "# print(article_text)\n"
   ]
  },
  {
   "cell_type": "markdown",
   "id": "f6b5d866",
   "metadata": {},
   "source": [
    "\n",
    "## 9) 5 tweets (1 línea c/u, con emojis y 1–2 hashtags)\n",
    "Crea un agente **Creador de Tweets** y genera EXACTAMENTE 5 líneas numeradas (1–5).\n",
    "\n",
    "**Pistas**:\n",
    "- Cada tweet debe referirse a un **dato distinto** del artículo.\n",
    "- Prompt: “Crea EXACTAMENTE 5 tweets numerados (1–5)... máx 40 palabras, 1–2 hashtags, emojis.”\n",
    "- Muestra las 5 líneas resultantes.\n"
   ]
  },
  {
   "cell_type": "code",
   "execution_count": null,
   "id": "47c801e7",
   "metadata": {},
   "outputs": [],
   "source": [
    "\n",
    "# TODO 9.1: crea Agent + Task con el artículo como contexto y ejecuta\n",
    "# influencer = ...\n",
    "# tweets_prompt = f\"\"\" ... {article_text} ... \"\"\"\n",
    "# tweets_task = ...\n",
    "# tweets_text = str(Crew(...).kickoff())\n",
    "\n",
    "# TODO 9.2: imprime únicamente 5 líneas (si vienen más, recorta)\n",
    "# lines = [ln.strip() for ln in tweets_text.splitlines() if ln.strip()]\n",
    "# for ln in lines[:5]:\n",
    "#     print(ln)\n"
   ]
  }
 ],
 "metadata": {
  "language_info": {
   "name": "python"
  }
 },
 "nbformat": 4,
 "nbformat_minor": 5
}
