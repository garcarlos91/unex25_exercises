{
 "cells": [
  {
   "cell_type": "markdown",
   "id": "2914c696",
   "metadata": {},
   "source": [
    "# 📚 AuraDB + Neo4j (Python) — Carga de un CSV de Películas y Modelo de Grafos\n",
    "\n",
    "Este notebook guía paso a paso a tus alumnos para:\n",
    "- Conectarse a **Neo4j AuraDB** desde Python.\n",
    "- Crear **constraints** e **índices**.\n",
    "- Definir **nodos** y **relaciones** (Movie, Year, Decade, bandas y Keywords).\n",
    "- **Importar** un CSV local y **normalizar** datos.\n",
    "- Ejecutar consultas de verificación y explorar el grafo."
   ]
  },
  {
   "cell_type": "markdown",
   "id": "91eedd1d",
   "metadata": {},
   "source": [
    "## 🎯 Objetivos de aprendizaje\n",
    "- Entender las credenciales necesarias para conectar con **AuraDB** (URI + usuario + contraseña).\n",
    "- Crear y comprender **constraints** e **índices** (incluyendo **full‑text**).\n",
    "- Cargar datos desde CSV **sin** `LOAD CSV` (usando `UNWIND $rows`) para no depender del directorio `/import`.\n",
    "- Construir un pequeño **modelo de grafo** con nodos `:Movie`, `:Year`, `:Decade` y nodos de **bandas** (`:RatingBand`, `:RuntimeBand`, `:BoxOfficeBand`) además de `:Keyword`.\n",
    "- Practicar **consultas Cypher** para validar el modelo.\n",
    "\n",
    "## ✅ Requisitos previos\n",
    "- Crear una cuenta gratuita de **Neo4j AuraDB** (https://neo4j.com/product/auradb/)\n",
    "- Una instancia activa de **Neo4j AuraDB**.Con la cuenta gratuita solo se nos permite crear una.\n",
    "- Las credenciales de conexión (⚠️ **no** es un “API key”): `NEO4J_URI`, `NEO4J_USERNAME`, `NEO4J_PASSWORD`. Estos valores están dentro del archivo descargado. Solo copia y pega en tu .env\n",
    "- Un **CSV local** con: `Movie Name`, `Year of Release`, `Watch Time`, `Movie Rating`, `Meatscore of movie`, `Votes`, `Gross`, `Description`.\n",
    "\n",
    "> ℹ️ **API keys de Aura**: sirven para la **gestión** de instancias; **no** para ejecutar consultas Cypher. Para conectarte a la base necesitas **URI, usuario y contraseña** (se copian desde **Connect** en la consola de AuraDB)."
   ]
  },
  {
   "cell_type": "markdown",
   "id": "c94c1177",
   "metadata": {},
   "source": [
    "## 1) Instalación de librerías"
   ]
  },
  {
   "cell_type": "code",
   "execution_count": null,
   "id": "a3a18963",
   "metadata": {},
   "outputs": [],
   "source": [
    "%pip install -q python-dotenv pandas langchain-community neo4j ipywidgets"
   ]
  },
  {
   "cell_type": "markdown",
   "id": "c0bde25d",
   "metadata": {},
   "source": [
    "## 2) Configuración de credenciales y conexión\n",
    "Puedes usar un fichero `.env` en el mismo directorio con:\n",
    "```env\n",
    "NEO4J_URI=neo4j+s://<tu-host>.databases.neo4j.io\n",
    "NEO4J_USERNAME=neo4j\n",
    "NEO4J_PASSWORD=<tu-contraseña>\n",
    "CSV_PATH=top_1000_IMDB_movies_utf8.csv\n",
    "```\n",
    "O asignarlas directamente en variables. **No compartas** tu contraseña."
   ]
  },
  {
   "cell_type": "code",
   "execution_count": null,
   "id": "05a21f2b",
   "metadata": {},
   "outputs": [],
   "source": [
    "import os\n",
    "from dotenv import load_dotenv\n",
    "load_dotenv()\n",
    "\n",
    "NEO4J_URI      = os.getenv(\"NEO4J_URI\") or \"neo4j+s://<tu-host>.databases.neo4j.io\"\n",
    "NEO4J_USERNAME = os.getenv(\"NEO4J_USERNAME\") or \"neo4j\"\n",
    "NEO4J_PASSWORD = os.getenv(\"NEO4J_PASSWORD\") or \"<tu-contraseña>\"\n",
    "\n",
    "# Ruta al CSV local (cámbiala si es necesario)\n",
    "CSV_PATH = os.getenv(\"CSV_PATH\") or \"top_1000_IMDB_movies_utf8.csv\"\n",
    "\n",
    "from langchain_community.graphs import Neo4jGraph\n",
    "graph = Neo4jGraph(url=NEO4J_URI, username=NEO4J_USERNAME, password=NEO4J_PASSWORD)\n",
    "\n",
    "# Prueba rápida de conexión\n",
    "graph.query(\"RETURN 1 AS ok\")"
   ]
  },
  {
   "cell_type": "markdown",
   "id": "200b6370",
   "metadata": {},
   "source": [
    "## 3) (Opcional) Subir el CSV con un selector de archivos\n",
    "Si trabajas en **Colab/Jupyter en la nube**, este widget te permite **subir** el CSV desde tu ordenador.\n",
    "Si ya tienes el archivo en disco y conoces la ruta, **puedes saltarte esta sección** y ajustar `CSV_PATH` arriba."
   ]
  },
  {
   "cell_type": "code",
   "execution_count": null,
   "id": "18bd9e96",
   "metadata": {},
   "outputs": [],
   "source": [
    "import ipywidgets as widgets\n",
    "from IPython.display import display\n",
    "\n",
    "uploader = widgets.FileUpload(accept='.csv', multiple=False)\n",
    "display(uploader)\n",
    "\n",
    "def save_upload_to(path=\"uploaded.csv\"):\n",
    "    if not uploader.value:\n",
    "        raise ValueError(\"Sube un CSV primero desde el widget.\")\n",
    "    (fname, fileinfo), = uploader.value.items()\n",
    "    with open(path, \"wb\") as f:\n",
    "        f.write(fileinfo[\"content\"])\n",
    "    return path\n",
    "\n",
    "# Cuando termines:\n",
    "# CSV_PATH = save_upload_to(\"top_1000_IMDB_movies_utf8.csv\")\n",
    "# CSV_PATH"
   ]
  },
  {
   "cell_type": "markdown",
   "id": "f5624304",
   "metadata": {},
   "source": [
    "## 4) Esquema: constraints e índices (full‑text incluido)"
   ]
  },
  {
   "cell_type": "code",
   "execution_count": null,
   "id": "e8c7ba0c",
   "metadata": {},
   "outputs": [],
   "source": [
    "schema_queries = [\n",
    "    \"\"\"CREATE CONSTRAINT movie_id IF NOT EXISTS\n",
    "    FOR (m:Movie) REQUIRE m.movieId IS UNIQUE\"\"\".strip(),  # Crea un constraint para garantizar que el atributo movieId de los nodos Movie sea único\n",
    "    \"\"\"CREATE CONSTRAINT year_value IF NOT EXISTS\n",
    "    FOR (y:Year) REQUIRE y.value IS UNIQUE\"\"\".strip(),  # Crea un constraint para garantizar que el atributo value de los nodos Year sea único\n",
    "    \"\"\"CREATE CONSTRAINT decade_value IF NOT EXISTS\n",
    "    FOR (d:Decade) REQUIRE d.value IS UNIQUE\"\"\".strip(),  # Crea un constraint para garantizar que el atributo value de los nodos Decade sea único\n",
    "    \"\"\"CREATE CONSTRAINT ratingband_name IF NOT EXISTS\n",
    "    FOR (r:RatingBand) REQUIRE r.name IS UNIQUE\"\"\".strip(),  # Crea un constraint para garantizar que el atributo name de los nodos RatingBand sea único\n",
    "    \"\"\"CREATE CONSTRAINT runtimeband_name IF NOT EXISTS\n",
    "    FOR (r:RuntimeBand) REQUIRE r.name IS UNIQUE\"\"\".strip(),  # Crea un constraint para garantizar que el atributo name de los nodos RuntimeBand sea único\n",
    "    \"\"\"CREATE CONSTRAINT boxofficeband_name IF NOT EXISTS\n",
    "    FOR (b:BoxOfficeBand) REQUIRE b.name IS UNIQUE\"\"\".strip(),  # Crea un constraint para garantizar que el atributo name de los nodos BoxOfficeBand sea único\n",
    "    \"\"\"CREATE CONSTRAINT keyword_name IF NOT EXISTS\n",
    "    FOR (k:Keyword) REQUIRE k.name IS UNIQUE\"\"\".strip(),  # Crea un constraint para garantizar que el atributo name de los nodos Keyword sea único\n",
    "    # Índices full-text (si ya existen, ignoramos el error)\n",
    "    \"\"\"CALL db.index.fulltext.createNodeIndex('movieFulltext', ['Movie'], ['title','description'])\"\"\".strip(),  # Crea un índice full-text para los nodos Movie en los atributos title y description\n",
    "    \"\"\"CALL db.index.fulltext.createNodeIndex('keywordFulltext', ['Keyword'], ['name'])\"\"\".strip()  # Crea un índice full-text para los nodos Keyword en el atributo name\n",
    "]\n",
    "\n",
    "for q in schema_queries:\n",
    "    try:\n",
    "        graph.query(q)  # Ejecuta cada consulta Cypher para crear constraints o índices\n",
    "    except Exception:\n",
    "        pass  # Ignora cualquier error que ocurra (por ejemplo, si el constraint ya existe)\n",
    "\n",
    "# Imprime un mensaje indicando que el esquema ha sido creado o verificado\n",
    "print(\"Esquema creado/verificado ✅\")"
   ]
  },
  {
   "cell_type": "markdown",
   "id": "0cc7905d",
   "metadata": {},
   "source": [
    "## 5) Catálogos de bandas (Rating/Runtime/Box Office)"
   ]
  },
  {
   "cell_type": "code",
   "execution_count": null,
   "id": "d3db3fc8",
   "metadata": {},
   "outputs": [],
   "source": [
    "# Definimos una lista de consultas Cypher para crear nodos de bandas de clasificación, duración y taquilla.\n",
    "catalog_queries = [\n",
    "    # Consulta para crear nodos de bandas de clasificación (RatingBand).\n",
    "    \"\"\"\n",
    "    UNWIND [\n",
    "      {name:'[9.0–10)', min:9.0, max:10.0},\n",
    "      {name:'[8.5–9.0)', min:8.5, max:9.0},\n",
    "      {name:'[8.0–8.5)', min:8.0, max:8.5},\n",
    "      {name:'< 8.0',     min:0.0, max:8.0}\n",
    "    ] AS b\n",
    "    MERGE (rb:RatingBand {name:b.name})  # Crea o encuentra un nodo RatingBand con el nombre especificado.\n",
    "    SET rb.min=b.min, rb.max=b.max       # Establece los valores mínimo y máximo para la banda.\n",
    "    \"\"\".strip(),\n",
    "\n",
    "    # Consulta para crear nodos de bandas de duración (RuntimeBand).\n",
    "    \"\"\"\n",
    "    UNWIND [\n",
    "      {name:'Short(<90)',     min:0,   max:90},\n",
    "      {name:'Feature(90–150)',min:90,  max:150},\n",
    "      {name:'Epic(>150)',     min:150, max:10000}\n",
    "    ] AS r\n",
    "    MERGE (rt:RuntimeBand {name:r.name})  # Crea o encuentra un nodo RuntimeBand con el nombre especificado.\n",
    "    SET rt.min=r.min, rt.max=r.max        # Establece los valores mínimo y máximo para la banda.\n",
    "    \"\"\".strip(),\n",
    "\n",
    "    # Consulta para crear nodos de bandas de taquilla (BoxOfficeBand).\n",
    "    \"\"\"\n",
    "    UNWIND [\n",
    "      {name:'< $10M',     min:0.0,      max:1.0e7},\n",
    "      {name:'$10–100M',   min:1.0e7,    max:1.0e8},\n",
    "      {name:'$100–500M',  min:1.0e8,    max:5.0e8},\n",
    "      {name:'≥ $500M',    min:5.0e8,    max:9.9e15}\n",
    "    ] AS bb\n",
    "    MERGE (b:BoxOfficeBand {name:bb.name})  # Crea o encuentra un nodo BoxOfficeBand con el nombre especificado.\n",
    "    SET b.min=bb.min, b.max=bb.max          # Establece los valores mínimo y máximo para la banda.\n",
    "    \"\"\".strip()\n",
    "]\n",
    "\n",
    "# Iteramos sobre cada consulta en la lista y la ejecutamos en la base de datos Neo4j.\n",
    "for q in catalog_queries:\n",
    "    graph.query(q)  # Ejecuta la consulta Cypher en la base de datos.\n",
    "\n",
    "# Imprime un mensaje indicando que los catálogos de bandas han sido creados correctamente.\n",
    "print(\"Catálogos de bandas listos ✅\")"
   ]
  },
  {
   "cell_type": "markdown",
   "id": "206e14c2",
   "metadata": {},
   "source": [
    "## 6) Utilidades de limpieza en Python"
   ]
  },
  {
   "cell_type": "code",
   "execution_count": null,
   "id": "1c54fa17",
   "metadata": {},
   "outputs": [],
   "source": [
    "import math, re, hashlib\n",
    "import pandas as pd\n",
    "\n",
    "# Función para analizar y convertir un año a un entero.\n",
    "def parse_year(x):\n",
    "    if x is None or (isinstance(x, float) and math.isnan(x)): return None  # Verifica si el valor es nulo o NaN.\n",
    "    s = str(x).strip().replace(\"(\",\"\").replace(\")\",\"\")  # Limpia el valor eliminando paréntesis y espacios.\n",
    "    return int(s) if s.isdigit() else None  # Convierte a entero si es un número válido.\n",
    "\n",
    "# Función para analizar y convertir la duración de una película a minutos.\n",
    "def parse_runtime_min(x):\n",
    "    if x is None or (isinstance(x, float) and math.isnan(x)): return None  # Verifica si el valor es nulo o NaN.\n",
    "    s = str(x).strip().lower().replace(\" min\",\"\")  # Limpia el valor eliminando \"min\" y espacios.\n",
    "    return int(s) if s.isdigit() else None  # Convierte a entero si es un número válido.\n",
    "\n",
    "# Función para analizar y convertir el número de votos a un entero.\n",
    "def parse_votes(x):\n",
    "    if x is None or (isinstance(x, float) and math.isnan(x)): return None  # Verifica si el valor es nulo o NaN.\n",
    "    s = re.sub(r\"[^\\d]\",\"\", str(x))  # Elimina caracteres no numéricos.\n",
    "    return int(s) if s else None  # Convierte a entero si es un número válido.\n",
    "\n",
    "# Función para analizar y convertir ingresos brutos (taquilla) a un valor en dólares.\n",
    "def parse_gross_usd(x):\n",
    "    if x is None or (isinstance(x, float) and math.isnan(x)): return None  # Verifica si el valor es nulo o NaN.\n",
    "    s = str(x).strip()  # Limpia el valor eliminando espacios.\n",
    "    m = re.match(r\"^\\$?\\s*([\\d.,]+)\\s*([MB])?$\", s, re.IGNORECASE)  # Extrae el número y la unidad (M o B).\n",
    "    if not m: return None  # Retorna None si no coincide con el patrón esperado.\n",
    "    num = float(m.group(1).replace(\",\", \"\"))  # Convierte el número a flotante eliminando comas.\n",
    "    unit = (m.group(2) or \"\").upper()  # Obtiene la unidad (M o B) en mayúsculas.\n",
    "    if unit == \"B\": num *= 1_000_000_000  # Convierte de billones a dólares.\n",
    "    elif unit == \"M\": num *= 1_000_000  # Convierte de millones a dólares.\n",
    "    return float(num)  # Retorna el valor en dólares.\n",
    "\n",
    "# Función para analizar y convertir el metascore a un entero.\n",
    "def parse_metascore(x):\n",
    "    if x is None or (isinstance(x, float) and math.isnan(x)): return None  # Verifica si el valor es nulo o NaN.\n",
    "    s = str(x).strip()  # Limpia el valor eliminando espacios.\n",
    "    return int(s) if re.search(r\"\\d\", s) and s.isdigit() else None  # Convierte a entero si es un número válido.\n",
    "\n",
    "# Función para convertir un valor a flotante de forma segura.\n",
    "def safe_float(x):\n",
    "    try: return float(x)  # Intenta convertir el valor a flotante.\n",
    "    except: return None  # Retorna None si ocurre un error.\n",
    "\n",
    "# Función para generar un identificador único para una película basado en su título y año.\n",
    "def movie_id(title, year):\n",
    "    return hashlib.sha1(f\"{title}|{year}\".encode(\"utf-8\")).hexdigest()  # Genera un hash SHA-1 único.\n",
    "\n",
    "# Conjunto de palabras comunes que se deben excluir al extraer palabras clave.\n",
    "STOPWORDS = set(\"\"\"the and of a to in on by for with as is his her their from an at into over this that it its he she they them are was were be been or\"\"\".split())\n",
    "\n",
    "# Función para extraer palabras clave de una descripción.\n",
    "def extract_keywords(desc, min_len=4, max_kw=20):\n",
    "    if not desc or not isinstance(desc, str): return []  # Verifica si la descripción es válida.\n",
    "    clean = re.sub(r\"[^A-Za-z\\s]\", \" \", desc)  # Elimina caracteres no alfabéticos.\n",
    "    toks = [t.lower() for t in clean.split()]  # Convierte las palabras a minúsculas.\n",
    "    toks = [t for t in toks if len(t) >= min_len and t not in STOPWORDS]  # Filtra palabras según longitud y stopwords.\n",
    "    out, seen = [], set()  # Inicializa listas para palabras clave y palabras vistas.\n",
    "    for t in toks:\n",
    "        if t not in seen:\n",
    "            seen.add(t); out.append(t)  # Agrega palabras únicas a la lista de salida.\n",
    "            if len(out) >= max_kw: break  # Detiene el proceso si se alcanza el máximo de palabras clave.\n",
    "    return out  # Retorna la lista de palabras clave extraídas."
   ]
  },
  {
   "cell_type": "markdown",
   "id": "8386ea68",
   "metadata": {},
   "source": [
    "## 7) Leer el CSV y preparar registros"
   ]
  },
  {
   "cell_type": "code",
   "execution_count": null,
   "id": "2a021445",
   "metadata": {},
   "outputs": [],
   "source": [
    "# Cambia sep=\",\" si tu archivo usa comas\n",
    "df = pd.read_csv(CSV_PATH, sep=\";\", dtype=str, keep_default_na=False)\n",
    "\n",
    "# Mapea cabeceras reales (ajusta si tu CSV difiere)\n",
    "col_title     = \"Movie Name\"\n",
    "col_year      = \"Year of Release\"\n",
    "col_runtime   = \"Watch Time\"\n",
    "col_imdb      = \"Movie Rating\"\n",
    "col_metascore = \"Meatscore of movie\"\n",
    "col_votes     = \"Votes\"\n",
    "col_gross     = \"Gross\"\n",
    "col_desc      = \"Description\"\n",
    "\n",
    "df.head(3)"
   ]
  },
  {
   "cell_type": "markdown",
   "id": "c2039f43",
   "metadata": {},
   "source": [
    "## 8) Construir el payload para Cypher (UNWIND $rows)"
   ]
  },
  {
   "cell_type": "code",
   "execution_count": null,
   "id": "67170a4e",
   "metadata": {},
   "outputs": [],
   "source": [
    "# Inicializamos una lista vacía para almacenar los registros procesados.\n",
    "records = []\n",
    "\n",
    "# Iteramos sobre cada fila del DataFrame.\n",
    "for _, row in df.iterrows():\n",
    "    # Obtenemos y limpiamos el título de la película.\n",
    "    title = (row.get(col_title) or \"\").strip()\n",
    "    # Analizamos y convertimos el año de lanzamiento.\n",
    "    year = parse_year(row.get(col_year))\n",
    "    # Si el título o el año son inválidos, omitimos esta fila.\n",
    "    if not title or year is None:\n",
    "        continue\n",
    "\n",
    "    # Creamos un diccionario para representar un registro de película.\n",
    "    rec = {\n",
    "        \"movieId\": movie_id(title, year),  # Generamos un identificador único para la película.\n",
    "        \"props\": {  # Propiedades de la película.\n",
    "            \"title\": title,  # Título de la película.\n",
    "            \"year\": year,  # Año de lanzamiento.\n",
    "            \"runtimeMin\": parse_runtime_min(row.get(col_runtime)),  # Duración en minutos.\n",
    "            \"imdbRating\": safe_float(row.get(col_imdb)),  # Calificación IMDb.\n",
    "            \"metascore\": parse_metascore(row.get(col_metascore)),  # Metascore.\n",
    "            \"votes\": parse_votes(row.get(col_votes)),  # Número de votos.\n",
    "            \"grossUSD\": parse_gross_usd(row.get(col_gross)),  # Ingresos brutos en dólares.\n",
    "            \"description\": (row.get(col_desc) or \"\").strip(),  # Descripción de la película.\n",
    "        },\n",
    "        \"keywords\": extract_keywords((row.get(col_desc) or \"\").strip())  # Palabras clave extraídas de la descripción.\n",
    "    }\n",
    "    # Agregamos el registro procesado a la lista.\n",
    "    records.append(rec)\n",
    "\n",
    "# Imprimimos la cantidad de registros procesados.\n",
    "len(records)"
   ]
  },
  {
   "cell_type": "markdown",
   "id": "f4d3f4d3",
   "metadata": {},
   "source": [
    "## 9) Upsert de `:Movie` por lotes (UNWIND $rows)"
   ]
  },
  {
   "cell_type": "code",
   "execution_count": null,
   "id": "7686b402",
   "metadata": {},
   "outputs": [],
   "source": [
    "# Definimos la consulta Cypher para insertar o actualizar nodos de tipo Movie.\n",
    "UPSERT_MOVIES = \"\"\"\n",
    "UNWIND $rows AS row  # Desempaqueta cada fila del parámetro $rows.\n",
    "MERGE (m:Movie {movieId: row.movieId})  # Busca o crea un nodo Movie con el identificador único movieId.\n",
    "SET m += row.props  # Actualiza las propiedades del nodo con los valores proporcionados.\n",
    "\"\"\"\n",
    "\n",
    "# Definimos el tamaño del lote para procesar los registros en partes.\n",
    "BATCH_SIZE = 500\n",
    "\n",
    "# Iteramos sobre los registros en lotes del tamaño definido.\n",
    "for i in range(0, len(records), BATCH_SIZE):\n",
    "    batch = records[i:i+BATCH_SIZE]  # Extraemos un lote de registros.\n",
    "    graph.query(UPSERT_MOVIES, params={\"rows\": batch})  # Ejecutamos la consulta Cypher con el lote actual.\n",
    "\n",
    "# Imprimimos un mensaje indicando que las películas han sido insertadas o actualizadas correctamente.\n",
    "print(\"Películas insertadas/actualizadas ✅\")"
   ]
  },
  {
   "cell_type": "markdown",
   "id": "f8a1ef56",
   "metadata": {},
   "source": [
    "## 10) Crear `:Year` y `:Decade` y enlazar bandas"
   ]
  },
  {
   "cell_type": "code",
   "execution_count": null,
   "id": "66e98d18",
   "metadata": {},
   "outputs": [],
   "source": [
    "# Consulta Cypher para enlazar películas con nodos de año y década.\n",
    "LINK_YEAR_DECADE = \"\"\"\n",
    "MATCH (m:Movie)  # Encuentra todos los nodos de tipo Movie.\n",
    "MERGE (y:Year {value: m.year})  # Crea o encuentra un nodo Year con el valor del año de la película.\n",
    "MERGE (d:Decade {value: (m.year/10)*10})  # Crea o encuentra un nodo Decade basado en la década del año.\n",
    "MERGE (m)-[:RELEASED_IN]->(y)  # Crea una relación RELEASED_IN entre la película y el nodo Year.\n",
    "MERGE (y)-[:IN_DECADE]->(d)  # Crea una relación IN_DECADE entre el nodo Year y el nodo Decade.\n",
    "\"\"\"\n",
    "graph.query(LINK_YEAR_DECADE)  # Ejecuta la consulta en la base de datos.\n",
    "\n",
    "# Consulta Cypher para enlazar películas con bandas de calificación (RatingBand).\n",
    "LINK_RATING = \"\"\"\n",
    "MATCH (m:Movie), (rb:RatingBand)  # Encuentra nodos Movie y RatingBand.\n",
    "WHERE m.imdbRating IS NOT NULL AND m.imdbRating >= rb.min AND m.imdbRating < rb.max  # Filtra películas con calificación IMDb dentro del rango de la banda.\n",
    "MERGE (m)-[:HAS_RATING_BAND]->(rb)  # Crea una relación HAS_RATING_BAND entre la película y la banda de calificación.\n",
    "\"\"\"\n",
    "graph.query(LINK_RATING)  # Ejecuta la consulta en la base de datos.\n",
    "\n",
    "# Consulta Cypher para enlazar películas con bandas de duración (RuntimeBand).\n",
    "LINK_RUNTIME = \"\"\"\n",
    "MATCH (m:Movie), (rt:RuntimeBand)  # Encuentra nodos Movie y RuntimeBand.\n",
    "WHERE m.runtimeMin IS NOT NULL AND m.runtimeMin >= rt.min AND m.runtimeMin < rt.max  # Filtra películas con duración dentro del rango de la banda.\n",
    "MERGE (m)-[:HAS_RUNTIME_BAND]->(rt)  # Crea una relación HAS_RUNTIME_BAND entre la película y la banda de duración.\n",
    "\"\"\"\n",
    "graph.query(LINK_RUNTIME)  # Ejecuta la consulta en la base de datos.\n",
    "\n",
    "# Consulta Cypher para enlazar películas con bandas de taquilla (BoxOfficeBand).\n",
    "LINK_BOXOFFICE = \"\"\"\n",
    "MATCH (m:Movie), (bb:BoxOfficeBand)  # Encuentra nodos Movie y BoxOfficeBand.\n",
    "WHERE m.grossUSD IS NOT NULL AND m.grossUSD >= bb.min AND m.grossUSD < bb.max  # Filtra películas con ingresos brutos dentro del rango de la banda.\n",
    "MERGE (m)-[:HAS_BOXOFFICE_BAND]->(bb)  # Crea una relación HAS_BOXOFFICE_BAND entre la película y la banda de taquilla.\n",
    "\"\"\"\n",
    "graph.query(LINK_BOXOFFICE)  # Ejecuta la consulta en la base de datos.\n",
    "\n",
    "# Imprime un mensaje indicando que las dimensiones y enlaces han sido creados correctamente.\n",
    "print(\"Dimensiones y enlaces listos ✅\")"
   ]
  },
  {
   "cell_type": "markdown",
   "id": "99fc1454",
   "metadata": {},
   "source": [
    "## 11) (Opcional) `:Keyword` y relaciones `HAS_KEYWORD`"
   ]
  },
  {
   "cell_type": "code",
   "execution_count": null,
   "id": "03a1d9d5",
   "metadata": {},
   "outputs": [],
   "source": [
    "# Definimos la consulta Cypher para insertar o actualizar palabras clave y enlazarlas con películas.\n",
    "UPSERT_KEYWORDS = \"\"\"\n",
    "UNWIND $rows AS row  # Desempaqueta cada fila del parámetro $rows.\n",
    "MATCH (m:Movie {movieId: row.movieId})  # Busca el nodo Movie correspondiente al movieId proporcionado.\n",
    "UNWIND row.keywords AS kw  # Desempaqueta cada palabra clave asociada a la película.\n",
    "MERGE (k:Keyword {name: kw})  # Crea o encuentra un nodo Keyword con el nombre especificado.\n",
    "MERGE (m)-[:HAS_KEYWORD]->(k)  # Crea una relación HAS_KEYWORD entre la película y la palabra clave.\n",
    "\"\"\"\n",
    "\n",
    "# Definimos el tamaño del lote para procesar los registros en partes.\n",
    "BATCH_SIZE = 500\n",
    "\n",
    "# Iteramos sobre los registros en lotes del tamaño definido.\n",
    "for i in range(0, len(records), BATCH_SIZE):\n",
    "    # Creamos un lote de palabras clave para las películas que tienen keywords.\n",
    "    batch_kw = [{\"movieId\": r[\"movieId\"], \"keywords\": r[\"keywords\"]}\n",
    "                for r in records[i:i+BATCH_SIZE] if r[\"keywords\"]]\n",
    "    # Si el lote no está vacío, ejecutamos la consulta Cypher con el lote actual.\n",
    "    if batch_kw:\n",
    "        graph.query(UPSERT_KEYWORDS, params={\"rows\": batch_kw})\n",
    "\n",
    "# Imprimimos un mensaje indicando que las palabras clave han sido enlazadas correctamente.\n",
    "print(\"Keywords enlazadas ✅\")"
   ]
  },
  {
   "cell_type": "markdown",
   "id": "f71965f7",
   "metadata": {},
   "source": [
    "## 12) Consultas de verificación"
   ]
  },
  {
   "cell_type": "code",
   "execution_count": null,
   "id": "8c3287e9",
   "metadata": {},
   "outputs": [],
   "source": [
    "graph.query(\"MATCH (m:Movie) RETURN count(m) AS movies\")"
   ]
  },
  {
   "cell_type": "code",
   "execution_count": null,
   "id": "6b6a9a16",
   "metadata": {},
   "outputs": [],
   "source": [
    "graph.query(\"\"\"\n",
    "MATCH (m:Movie)\n",
    "RETURN m.title AS title, m.imdbRating AS rating\n",
    "ORDER BY rating DESC, m.votes DESC\n",
    "LIMIT 5\n",
    "\"\"\")"
   ]
  },
  {
   "cell_type": "code",
   "execution_count": null,
   "id": "e88c1cfc",
   "metadata": {},
   "outputs": [],
   "source": [
    "graph.query(\"\"\"\n",
    "MATCH (m:Movie)-[:RELEASED_IN]->(:Year)-[:IN_DECADE]->(d:Decade {value:1990})\n",
    "RETURN m.title AS title, m.year AS year, m.imdbRating AS rating\n",
    "ORDER BY rating DESC, m.votes DESC\n",
    "LIMIT 10\n",
    "\"\"\")"
   ]
  },
  {
   "cell_type": "code",
   "execution_count": null,
   "id": "87e8a320",
   "metadata": {},
   "outputs": [],
   "source": [
    "graph.query(\"MATCH (k:Keyword) RETURN k.name AS keyword LIMIT 20\")"
   ]
  },
  {
   "cell_type": "markdown",
   "id": "35c8d0c4",
   "metadata": {},
   "source": [
    "## 13) Troubleshooting (errores frecuentes)\n",
    "- **`AuthenticationFailed` / `Neo.ClientError.Security.CredentialsExpired`**: revisa usuario/contraseña en Aura; cambia la contraseña si es necesario y actualiza el `.env`.\n",
    "- **`ServiceUnavailable` / `Failed to establish connection`**: revisa el **URI** (usa `neo4j+s://...`) y conectividad de tu red.\n",
    "- **`Index already exists`**: normal si ejecutas el notebook más de una vez.\n",
    "- **`Procedure not found: db.index.fulltext.createNodeIndex`**: usa Neo4j 5.x/Aura actual.\n",
    "- Ajusta `parse_*` o nombres de columnas si cambia tu CSV."
   ]
  },
  {
   "cell_type": "markdown",
   "id": "b61beb30",
   "metadata": {},
   "source": [
    "## 14) Referencias y documentación oficial\n",
    "- **Conexión a AuraDB (aplicaciones/Drivers):**  https://neo4j.com/docs/aura/connecting-applications/overview/\n",
    "- **Neo4j Python Driver (manual):**  https://neo4j.com/docs/python-manual/current/\n",
    "- **LangChain · `Neo4jGraph` (API):**  https://python.langchain.com/api_reference/community/graphs/langchain_community.graphs.neo4j_graph.Neo4jGraph.html\n",
    "- **Constraints (Cypher Manual):**  https://neo4j.com/docs/cypher-manual/current/constraints/\n",
    "- **Full‑text indexes:**  https://neo4j.com/docs/cypher-manual/current/indexes/semantic-indexes/full-text-indexes/\n",
    "- **`LOAD CSV` (alternativa):**  https://neo4j.com/docs/cypher-manual/current/clauses/load-csv/\n",
    "- **ipywidgets – `FileUpload`:**  https://ipywidgets.readthedocs.io/en/8.1.3/examples/Widget%20List.html#File-Upload\n",
    "- **pandas – `read_csv`:**  https://pandas.pydata.org/docs/reference/api/pandas.read_csv.html"
   ]
  },
  {
   "cell_type": "markdown",
   "id": "1ff3b9ed",
   "metadata": {},
   "source": [
    "### (Opcional) Conexión con el driver oficial"
   ]
  },
  {
   "cell_type": "code",
   "execution_count": null,
   "id": "95f89d19",
   "metadata": {},
   "outputs": [],
   "source": [
    "# from neo4j import GraphDatabase\n",
    "# driver = GraphDatabase.driver(NEO4J_URI, auth=(NEO4J_USERNAME, NEO4J_PASSWORD))\n",
    "# with driver.session() as session:\n",
    "#     rec = session.run(\"RETURN 1 AS ok\").single()\n",
    "#     print(rec[\"ok\"])  # 1\n",
    "# driver.close()"
   ]
  }
 ],
 "metadata": {
  "kernelspec": {
   "display_name": "Python 3",
   "language": "python",
   "name": "python3"
  },
  "language_info": {
   "name": "python",
   "pygments_lexer": "ipython3"
  }
 },
 "nbformat": 4,
 "nbformat_minor": 5
}
