{
 "cells": [
  {
   "cell_type": "markdown",
   "id": "e00676ae",
   "metadata": {},
   "source": [
    "# ✍️ AuraDB — OpenAI RAG (Ejercicio de **consultas**) con LangChain\n",
    "Cuaderno de **alumno** para consultar un grafo **ya creado** en *Neo4j AuraDB* (IMDB).  \n",
    "Usaremos **LangChain + OpenAI** para NL→Cypher y responder en español.\n",
    "\n",
    "**Estructura de cada sección:**  \n",
    "- Explicación + **Pistas clave**  \n",
    "- Celda de **código con TODOs** (tú la completas)  \n",
    "- **### Solución (mostrar/ocultar)** y una celda con la **solución ejecutable**"
   ]
  },
  {
   "cell_type": "markdown",
   "id": "03dcdd3e",
   "metadata": {},
   "source": [
    "## ▶️ Instalación rápida\n",
    "**Docs útiles**\n",
    "- AuraDB (conectar apps): https://neo4j.com/docs/aura/connecting-applications/overview/  \n",
    "- Neo4j Python Driver: https://neo4j.com/docs/python-manual/current/  \n",
    "- LangChain (Neo4j): https://python.langchain.com/docs/integrations/graphs/neo4j  \n",
    "- Prompt templates: https://python.langchain.com/docs/guides/prompt_templates/"
   ]
  },
  {
   "cell_type": "code",
   "execution_count": null,
   "id": "1f36c368",
   "metadata": {},
   "outputs": [],
   "source": [
    "# Recomendado: ejecutar esta celda primero (reinicia kernel si actualiza mucho)\n",
    "%pip install -q python-dotenv neo4j langchain langchain-community langchain-openai tiktoken"
   ]
  },
  {
   "cell_type": "markdown",
   "id": "02848622",
   "metadata": {},
   "source": [
    "## 1) Configuración inicial (API Keys + modelo + conexión Neo4j)\n",
    "**Objetivo:** preparar imports, cargar `.env`, configurar **OpenAI** y crear el conector `Neo4jGraph` (solo lectura).\n",
    "\n",
    "**Pistas clave**\n",
    "- `from dotenv import load_dotenv`; `load_dotenv()`  \n",
    "- Variables: `OPENAI_API_KEY`, `OPENAI_MODEL` (p. ej. `gpt-4.1-mini`)  \n",
    "- `from langchain_openai import ChatOpenAI` + `os.environ[\"OPENAI_API_KEY\"] = ...`  \n",
    "- `from langchain_community.graphs import Neo4jGraph` y `Neo4jGraph(url=..., username=..., password=...)`  \n",
    "- Prueba: `graph.query(\"RETURN 1 AS ok\")`"
   ]
  },
  {
   "cell_type": "code",
   "execution_count": 1,
   "id": "99e670a8",
   "metadata": {},
   "outputs": [
    {
     "name": "stderr",
     "output_type": "stream",
     "text": [
      "/var/folders/w8/qlbrzr6d0q92wypgx2t_5vpw0000gn/T/ipykernel_43986/2570950614.py:16: LangChainDeprecationWarning: The class `Neo4jGraph` was deprecated in LangChain 0.3.8 and will be removed in 1.0. An updated version of the class exists in the :class:`~langchain-neo4j package and should be used instead. To use it run `pip install -U :class:`~langchain-neo4j` and import as `from :class:`~langchain_neo4j import Neo4jGraph``.\n",
      "  graph = Neo4jGraph(url=NEO4J_URI, username=NEO4J_USERNAME, password=NEO4J_PASSWORD)\n"
     ]
    },
    {
     "data": {
      "text/plain": [
       "[{'ok': 1}]"
      ]
     },
     "execution_count": 1,
     "metadata": {},
     "output_type": "execute_result"
    }
   ],
   "source": [
    "import os\n",
    "from dotenv import load_dotenv\n",
    "load_dotenv()\n",
    "\n",
    "OPENAI_API_KEY = os.getenv(\"OPENAI_API_KEY\") or \"<tu-openai-key>\"\n",
    "OPENAI_MODEL   = os.getenv(\"OPENAI_MODEL\")   or \"gpt-4.1-mini\"\n",
    "NEO4J_URI      = os.getenv(\"NEO4J_URI\")      or \"neo4j+s://<tu-host>.databases.neo4j.io\"\n",
    "NEO4J_USERNAME = os.getenv(\"NEO4J_USERNAME\") or \"neo4j\"\n",
    "NEO4J_PASSWORD = os.getenv(\"NEO4J_PASSWORD\") or \"<tu-contraseña>\"\n",
    "\n",
    "from langchain_openai import ChatOpenAI\n",
    "os.environ[\"OPENAI_API_KEY\"] = OPENAI_API_KEY\n",
    "llm = ChatOpenAI(model=OPENAI_MODEL, temperature=0)\n",
    "\n",
    "from langchain_community.graphs import Neo4jGraph\n",
    "graph = Neo4jGraph(url=NEO4J_URI, username=NEO4J_USERNAME, password=NEO4J_PASSWORD)\n",
    "graph.query(\"RETURN 1 AS ok\")"
   ]
  },
  {
   "cell_type": "markdown",
   "id": "8dff721c",
   "metadata": {},
   "source": [
    "## 2) Esquema del grafo (solo lectura)\n",
    "**Objetivo:** refrescar e inspeccionar el esquema para guiar la generación de Cypher.\n",
    "\n",
    "**Pistas clave**\n",
    "- `graph.refresh_schema()`  \n",
    "- `print(graph.schema[:1000])`"
   ]
  },
  {
   "cell_type": "code",
   "execution_count": 2,
   "id": "4988b1fb",
   "metadata": {},
   "outputs": [
    {
     "name": "stdout",
     "output_type": "stream",
     "text": [
      "Node properties:\n",
      "Movie {movieId: STRING, runtimeMin: INTEGER, grossUSD: FLOAT, year: INTEGER, description: STRING, imdbRating: FLOAT, votes: INTEGER, metascore: INTEGER, title: STRING}\n",
      "Year {value: INTEGER}\n",
      "Decade {value: INTEGER}\n",
      "RatingBand {name: STRING, min: FLOAT, max: FLOAT}\n",
      "RuntimeBand {name: STRING, min: INTEGER, max: INTEGER}\n",
      "BoxOfficeBand {name: STRING, min: FLOAT, max: FLOAT}\n",
      "Keyword {name: STRING}\n",
      "Relationship properties:\n",
      "\n",
      "The relationships:\n",
      "(:Movie)-[:RELEASED_IN]->(:Year)\n",
      "(:Movie)-[:HAS_RATING_BAND]->(:RatingBand)\n",
      "(:Movie)-[:HAS_RUNTIME_BAND]->(:RuntimeBand)\n",
      "(:Movie)-[:HAS_BOXOFFICE_BAND]->(:BoxOfficeBand)\n",
      "(:Movie)-[:HAS_KEYWORD]->(:Keyword)\n",
      "(:Year)-[:IN_DECADE]->(:Decade)\n"
     ]
    }
   ],
   "source": [
    "# Refresca el esquema del grafo y lo imprime parcialmente para inspección.\n",
    "graph.refresh_schema()  \n",
    "# Imprime los primeros 1000 caracteres del esquema del grafo.\n",
    "# Si el esquema es más largo, añade \"...\" al final para indicar truncamiento.\n",
    "print(graph.schema[:1000] + (\"...\" if len(graph.schema) > 1000 else \"\"))"
   ]
  },
  {
   "cell_type": "markdown",
   "id": "200e292c",
   "metadata": {},
   "source": [
    "## 3) Prompt de generación de Cypher (solo lectura)\n",
    "**Objetivo:** construir un `PromptTemplate` que **prohíba escrituras** y use `{schema}` y `{question}`.\n",
    "\n",
    "**Pistas clave**\n",
    "- `from langchain.prompts import PromptTemplate`  \n",
    "- `input_variables=[\"schema\",\"question\"]`  \n",
    "- Incluir: “NO usar CREATE/MERGE/SET/DELETE/REMOVE/DROP/LOAD CSV”"
   ]
  },
  {
   "cell_type": "code",
   "execution_count": 3,
   "id": "59127993",
   "metadata": {},
   "outputs": [],
   "source": [
    "from langchain.prompts import PromptTemplate\n",
    "CYTHER_PROMPT_TMPL = PromptTemplate(\n",
    "    input_variables=[\"schema\",\"question\"],\n",
    "    template=(\n",
    "        \"Eres un generador de Cypher para Neo4j. \"\n",
    "        \"Responde SOLO con una consulta de LECTURA. \"\n",
    "        \"NO crear/modificar datos (prohibido CREATE, MERGE, SET, DELETE, REMOVE, DROP, LOAD CSV).\\n\"\n",
    "        \"Esquema:\\n{schema}\\n\\n\"\n",
    "        \"Pregunta: {question}\\n\"\n",
    "        \"Cypher:\"\n",
    "    ),\n",
    ")"
   ]
  },
  {
   "cell_type": "markdown",
   "id": "55c0e7ff",
   "metadata": {},
   "source": [
    "## 4) Utilidad `clean_fences(text)`\n",
    "**Objetivo:** si el LLM devuelve ```cypher ...```, quitar fences y etiquetas para quedarnos solo con el Cypher.\n",
    "\n",
    "**Pistas clave**\n",
    "- `text.strip()` y `splitlines()`  \n",
    "- Si empieza por ```, quitar backticks y primera línea si no empieza por `MATCH/CALL/RETURN/WITH`"
   ]
  },
  {
   "cell_type": "code",
   "execution_count": 4,
   "id": "64b7b329",
   "metadata": {},
   "outputs": [],
   "source": [
    "def clean_fences(text: str) -> str:\n",
    "    \"\"\"\n",
    "    Limpia el texto generado por el LLM eliminando etiquetas de formato y líneas innecesarias.\n",
    "\n",
    "    Args:\n",
    "        text (str): Texto que puede contener etiquetas de formato como ```cypher.\n",
    "\n",
    "    Returns:\n",
    "        str: Texto limpio, listo para ser interpretado como una consulta Cypher.\n",
    "    \"\"\"\n",
    "    if not text:\n",
    "        # Si el texto está vacío, se devuelve tal cual.\n",
    "        return text\n",
    "    text = text.strip()  # Elimina espacios en blanco al inicio y al final.\n",
    "    if text.startswith(\"```\"):\n",
    "        # Si el texto comienza con ``` (etiquetas de bloque de código), las elimina.\n",
    "        text = text.strip(\"`\")\n",
    "        lines = text.splitlines()  # Divide el texto en líneas.\n",
    "        if lines and not lines[0].strip().upper().startswith((\"MATCH\", \"CALL\", \"RETURN\", \"WITH\")):\n",
    "            # Si la primera línea no contiene una palabra clave Cypher válida, se elimina.\n",
    "            lines = lines[1:]\n",
    "        # Une las líneas restantes en un solo string, eliminando espacios innecesarios.\n",
    "        text = \"\\n\".join(lines).strip()\n",
    "    return text"
   ]
  },
  {
   "cell_type": "markdown",
   "id": "9ffec335",
   "metadata": {},
   "source": [
    "## 5) Validador: **solo lectura**\n",
    "**Objetivo:** rechazar Cypher con escrituras (CREATE/MERGE/SET/DELETE/REMOVE/DROP/LOAD CSV / CALL dbms...).\n",
    "\n",
    "**Pistas clave**\n",
    "- `import re` + `re.compile(r\"...\", re.IGNORECASE)`  \n",
    "- Función `is_read_only(cy: str) -> bool` que busca con `.search(...)`"
   ]
  },
  {
   "cell_type": "code",
   "execution_count": 5,
   "id": "810213de",
   "metadata": {},
   "outputs": [],
   "source": [
    "import re\n",
    "\n",
    "# Define un patrón de expresiones regulares para detectar comandos Cypher que modifican datos.\n",
    "# Estos incluyen CREATE, MERGE, SET, DELETE, REMOVE, DROP, LOAD CSV y llamadas específicas como CALL dbms.\n",
    "READ_ONLY_PATTERN = re.compile(\n",
    "    r\"\\b(CREATE|MERGE|SET|DELETE|REMOVE|DROP|LOAD\\s+CSV|CALL\\s+dbms)\\b\", \n",
    "    re.IGNORECASE  # Ignora mayúsculas y minúsculas al buscar coincidencias.\n",
    ")\n",
    "\n",
    "def is_read_only(cy: str) -> bool:\n",
    "    \"\"\"\n",
    "    Verifica si una consulta Cypher es de solo lectura.\n",
    "\n",
    "    Args:\n",
    "        cy (str): Consulta Cypher a validar.\n",
    "\n",
    "    Returns:\n",
    "        bool: True si la consulta es de solo lectura, False si contiene comandos de escritura.\n",
    "    \"\"\"\n",
    "    # Busca coincidencias con el patrón de escritura en la consulta Cypher.\n",
    "    # Si no hay coincidencias, la consulta es de solo lectura.\n",
    "    return not bool(READ_ONLY_PATTERN.search(cy or \"\"))"
   ]
  },
  {
   "cell_type": "markdown",
   "id": "36d93d88",
   "metadata": {},
   "source": [
    "## 6) Función `generate_cypher(llm, schema, question)`\n",
    "**Objetivo:** construir el prompt, invocar el LLM, limpiar fences y validar que sea **solo lectura**.\n",
    "\n",
    "**Pistas clave**\n",
    "- `prompt = CYTHER_PROMPT_TMPL.format(schema=schema, question=question)`  \n",
    "- `text = llm.invoke(prompt).content`  \n",
    "- `cy = clean_fences(text)` y `is_read_only(cy)`"
   ]
  },
  {
   "cell_type": "code",
   "execution_count": 6,
   "id": "fccf6c43",
   "metadata": {},
   "outputs": [],
   "source": [
    "def generate_cypher(llm, schema: str, question: str) -> str:\n",
    "    \"\"\"\n",
    "    Genera una consulta Cypher basada en una pregunta en lenguaje natural y el esquema del grafo.\n",
    "\n",
    "    Args:\n",
    "        llm: Modelo de lenguaje utilizado para generar la consulta.\n",
    "        schema (str): Esquema del grafo que sirve como contexto para la generación.\n",
    "        question (str): Pregunta en lenguaje natural que debe responderse con Cypher.\n",
    "\n",
    "    Returns:\n",
    "        str: Consulta Cypher generada, validada como de solo lectura.\n",
    "\n",
    "    Raises:\n",
    "        ValueError: Si la consulta generada contiene comandos de escritura.\n",
    "    \"\"\"\n",
    "    # Formatea el prompt utilizando el esquema y la pregunta proporcionados.\n",
    "    prompt = CYTHER_PROMPT_TMPL.format(schema=schema, question=question)\n",
    "    # Invoca el modelo de lenguaje para generar la consulta Cypher.\n",
    "    text = llm.invoke(prompt).content\n",
    "    # Limpia el texto generado para eliminar etiquetas de formato y líneas innecesarias.\n",
    "    cy = clean_fences(text)\n",
    "    # Valida que la consulta sea de solo lectura.\n",
    "    if not is_read_only(cy):\n",
    "        # Lanza un error si la consulta contiene comandos de escritura.\n",
    "        raise ValueError(f\"Consulta no segura (posible escritura):\\n{cy}\")\n",
    "    # Devuelve la consulta Cypher validada.\n",
    "    return cy"
   ]
  },
  {
   "cell_type": "markdown",
   "id": "9bdc5a82",
   "metadata": {},
   "source": [
    "## 7) Función `run_cypher(graph, cypher)`\n",
    "**Objetivo:** ejecutar la consulta de solo lectura y devolver registros (lista de dicts).\n",
    "\n",
    "**Pistas clave**\n",
    "- `graph.query(cypher, params or {})`"
   ]
  },
  {
   "cell_type": "code",
   "execution_count": 7,
   "id": "87424013",
   "metadata": {},
   "outputs": [],
   "source": [
    "def run_cypher(graph, cypher: str, params=None):\n",
    "    \"\"\"\n",
    "    Ejecuta una consulta Cypher en el grafo Neo4j y devuelve los resultados.\n",
    "\n",
    "    Args:\n",
    "        graph: Objeto de conexión al grafo (Neo4jGraph).\n",
    "        cypher (str): Consulta Cypher que se desea ejecutar.\n",
    "        params (dict, opcional): Parámetros adicionales para la consulta Cypher.\n",
    "\n",
    "    Returns:\n",
    "        list[dict]: Lista de registros devueltos por la consulta, donde cada registro es un diccionario.\n",
    "    \"\"\"\n",
    "    # Ejecuta la consulta Cypher en el grafo con los parámetros proporcionados (o un diccionario vacío si no hay parámetros).\n",
    "    return graph.query(cypher, params or {})"
   ]
  },
  {
   "cell_type": "markdown",
   "id": "36ccd060",
   "metadata": {},
   "source": [
    "## 8) Función `answer_question(question)`\n",
    "**Objetivo:** generar Cypher, **imprimirlo**, ejecutarlo y resumir con el LLM en español.\n",
    "\n",
    "**Pistas clave**\n",
    "- `cy = generate_cypher(llm, graph.schema, question)`  \n",
    "- `print(cy)` antes de ejecutar  \n",
    "- `rows = run_cypher(graph, cy)`  \n",
    "- `PromptTemplate` para redactar respuesta corta a partir de filas"
   ]
  },
  {
   "cell_type": "code",
   "execution_count": null,
   "id": "27eef8ba",
   "metadata": {},
   "outputs": [],
   "source": [
    "from langchain.prompts import PromptTemplate as _PT\n",
    "\n",
    "# Define un template para generar una respuesta basada en la pregunta y los datos obtenidos.\n",
    "ANSWER_PROMPT_TMPL = _PT(\n",
    "    input_variables=[\"question\", \"rows\"],  # Variables que se inyectarán en el template.\n",
    "    template=(\n",
    "        \"Pregunta: {question}\\n\"\n",
    "        \"Datos (JSON abreviado): {rows}\\n\\n\"\n",
    "        \"Redacta una respuesta breve y clara en español, sin inventar datos.\"\n",
    "    )\n",
    ")\n",
    "\n",
    "def answer_question(question: str, max_rows: int = 20, show_cypher: bool = False):\n",
    "    \"\"\"\n",
    "    Genera una consulta Cypher, la ejecuta y utiliza los resultados para redactar una respuesta.\n",
    "\n",
    "    Args:\n",
    "        question (str): Pregunta en lenguaje natural que debe responderse.\n",
    "        max_rows (int): Número máximo de filas a incluir en la respuesta. Por defecto, 20.\n",
    "        show_cypher (bool): Si es True, imprime la consulta Cypher generada antes de ejecutarla.\n",
    "\n",
    "    Returns:\n",
    "        dict: Un diccionario con la consulta Cypher generada, los resultados obtenidos y la respuesta redactada.\n",
    "    \"\"\"\n",
    "    # Genera la consulta Cypher basada en la pregunta y el esquema del grafo.\n",
    "    cy = generate_cypher(llm, graph.schema, question)\n",
    "    \n",
    "    if show_cypher:\n",
    "        # Imprime la consulta Cypher generada si show_cypher es True.\n",
    "        print(\"— Cypher generado —\")\n",
    "        print(cy)\n",
    "        print(\"———————\")\n",
    "    \n",
    "    # Ejecuta la consulta Cypher y obtiene los resultados.\n",
    "    rows = run_cypher(graph, cy)\n",
    "    \n",
    "    # Limita el número de filas a incluir en la respuesta según max_rows.\n",
    "    short_rows = rows[:max_rows]\n",
    "    \n",
    "    # Genera una respuesta en español utilizando el template y los datos obtenidos.\n",
    "    ans = llm.invoke(ANSWER_PROMPT_TMPL.format(question=question, rows=short_rows)).content\n",
    "    \n",
    "    # Devuelve un diccionario con la consulta Cypher, los resultados y la respuesta generada.\n",
    "    return {\"cypher\": cy, \"rows\": rows, \"answer\": ans}"
   ]
  },
  {
   "cell_type": "markdown",
   "id": "ac922f54",
   "metadata": {},
   "source": [
    "## 9) Pruebas guiadas\n",
    "Ejecuta estas pruebas cuando termines los ejercicios."
   ]
  },
  {
   "cell_type": "code",
   "execution_count": 9,
   "id": "4476531e",
   "metadata": {},
   "outputs": [
    {
     "name": "stdout",
     "output_type": "stream",
     "text": [
      "— Cypher generado —\n",
      "MATCH (m:Movie)-[:RELEASED_IN]->(y:Year)-[:IN_DECADE]->(d:Decade {value: 1990})\n",
      "RETURN m.title, m.imdbRating\n",
      "ORDER BY m.imdbRating DESC\n",
      "LIMIT 5\n",
      "———————\n"
     ]
    },
    {
     "data": {
      "text/plain": [
       "\"El top 5 de películas de la década de 1990 con mayor puntuación IMDb es:\\n\\n1. The Shawshank Redemption - 9.3  \\n2. Schindler's List - 9.0  \\n3. Pulp Fiction - 8.9  \\n4. Forrest Gump - 8.8  \\n5. Fight Club - 8.8\""
      ]
     },
     "execution_count": 9,
     "metadata": {},
     "output_type": "execute_result"
    }
   ],
   "source": [
    "#  — Prueba NL→Cypher\n",
    "out = answer_question(\"Dame el top 5 de películas de la década de 1990 con mayor puntuación IMDb.\")\n",
    "out[\"answer\"]"
   ]
  },
  {
   "cell_type": "code",
   "execution_count": 10,
   "id": "8000c8be",
   "metadata": {},
   "outputs": [
    {
     "data": {
      "text/plain": [
       "[{'title': 'The Shawshank Redemption', 'rating': 9.3},\n",
       " {'title': 'The Godfather', 'rating': 9.2},\n",
       " {'title': 'The Dark Knight', 'rating': 9.0},\n",
       " {'title': \"Schindler's List\", 'rating': 9.0},\n",
       " {'title': 'The Lord of the Rings: The Return of the King', 'rating': 9.0}]"
      ]
     },
     "execution_count": 10,
     "metadata": {},
     "output_type": "execute_result"
    }
   ],
   "source": [
    "#  — Prueba Cypher directo\n",
    "res = graph.query(\"\"\"\n",
    "MATCH (m:Movie)\n",
    "RETURN m.title AS title, m.imdbRating AS rating\n",
    "ORDER BY rating DESC, m.votes DESC\n",
    "LIMIT 5\n",
    "\"\"\")\n",
    "res"
   ]
  },
  {
   "cell_type": "code",
   "execution_count": 11,
   "id": "21c849ec",
   "metadata": {},
   "outputs": [
    {
     "name": "stdout",
     "output_type": "stream",
     "text": [
      "— Cypher generado —\n",
      "MATCH (m:Movie)\n",
      "WHERE m.runtimeMin > 150\n",
      "RETURN m.title AS movieTitle\n",
      "———————\n"
     ]
    },
    {
     "data": {
      "text/plain": [
       "\"Películas que duran más de 150 minutos incluyen: The Godfather, The Lord of the Rings: The Return of the King, Schindler's List, The Godfather: Part II, The Lord of the Rings: The Two Towers, The Lord of the Rings: The Fellowship of the Ring, The Good, the Bad and the Ugly, Interstellar, Seven Samurai, The Green Mile y Cinema Paradiso.\""
      ]
     },
     "execution_count": 11,
     "metadata": {},
     "output_type": "execute_result"
    }
   ],
   "source": [
    "#  — Prueba NL→Cypher\n",
    "out = answer_question(\"Nombre de películas que duran más de 150 minutos?\")\n",
    "out[\"answer\"]"
   ]
  },
  {
   "cell_type": "code",
   "execution_count": 12,
   "id": "e53697ce",
   "metadata": {},
   "outputs": [
    {
     "data": {
      "text/plain": [
       "[{'movieTitle': 'The Godfather'},\n",
       " {'movieTitle': 'The Dark Knight'},\n",
       " {'movieTitle': 'The Lord of the Rings: The Return of the King'},\n",
       " {'movieTitle': \"Schindler's List\"},\n",
       " {'movieTitle': 'The Godfather: Part II'},\n",
       " {'movieTitle': 'Jai Bhim'},\n",
       " {'movieTitle': 'Pulp Fiction'},\n",
       " {'movieTitle': 'The Lord of the Rings: The Two Towers'},\n",
       " {'movieTitle': 'The Lord of the Rings: The Fellowship of the Ring'},\n",
       " {'movieTitle': 'The Good, the Bad and the Ugly'},\n",
       " {'movieTitle': 'Soorarai Pottru'},\n",
       " {'movieTitle': 'Vikram'},\n",
       " {'movieTitle': 'Interstellar'},\n",
       " {'movieTitle': 'Saving Private Ryan'},\n",
       " {'movieTitle': 'The Green Mile'},\n",
       " {'movieTitle': 'Seven Samurai'},\n",
       " {'movieTitle': 'Sardar Udham'},\n",
       " {'movieTitle': 'The Departed'},\n",
       " {'movieTitle': 'Gladiator'},\n",
       " {'movieTitle': 'Cinema Paradiso'},\n",
       " {'movieTitle': 'Once Upon a Time in the West'},\n",
       " {'movieTitle': 'Avengers: Endgame'},\n",
       " {'movieTitle': 'Django Unchained'},\n",
       " {'movieTitle': 'The Dark Knight Rises'},\n",
       " {'movieTitle': 'Drishyam 2'},\n",
       " {'movieTitle': '3 Idiots'},\n",
       " {'movieTitle': 'K.G.F: Chapter 2'},\n",
       " {'movieTitle': 'Braveheart'},\n",
       " {'movieTitle': 'Amadeus'},\n",
       " {'movieTitle': 'Hamilton'},\n",
       " {'movieTitle': 'Raatchasan'},\n",
       " {'movieTitle': 'Dangal'},\n",
       " {'movieTitle': 'Drishyam'},\n",
       " {'movieTitle': 'Like Stars on Earth'},\n",
       " {'movieTitle': 'Inglourious Basterds'},\n",
       " {'movieTitle': 'Heat'},\n",
       " {'movieTitle': 'Once Upon a Time in America'},\n",
       " {'movieTitle': 'Scarface'},\n",
       " {'movieTitle': 'Lawrence of Arabia'},\n",
       " {'movieTitle': 'Judgment at Nuremberg'},\n",
       " {'movieTitle': 'Metropolis'},\n",
       " {'movieTitle': 'K.G.F: Chapter 1'},\n",
       " {'movieTitle': 'Baahubali 2: The Conclusion'},\n",
       " {'movieTitle': 'Drishyam'},\n",
       " {'movieTitle': 'Bhaag Milkha Bhaag'},\n",
       " {'movieTitle': 'Gangs of Wasseypur'},\n",
       " {'movieTitle': 'The Wolf of Wall Street'},\n",
       " {'movieTitle': 'There Will Be Blood'},\n",
       " {'movieTitle': 'Downfall'},\n",
       " {'movieTitle': 'Casino'},\n",
       " {'movieTitle': 'Ran'},\n",
       " {'movieTitle': 'The Great Escape'},\n",
       " {'movieTitle': 'The Bridge on the River Kwai'},\n",
       " {'movieTitle': 'Gone with the Wind'},\n",
       " {'movieTitle': 'Bajrangi Bhaijaan'},\n",
       " {'movieTitle': 'Haider'},\n",
       " {'movieTitle': 'PK'},\n",
       " {'movieTitle': 'Barfi!'},\n",
       " {'movieTitle': 'Ford v Ferrari'},\n",
       " {'movieTitle': 'Zindagi Na Milegi Dobara'},\n",
       " {'movieTitle': 'Prisoners'},\n",
       " {'movieTitle': \"Let's Go! India\"},\n",
       " {'movieTitle': 'Color It Yellow'},\n",
       " {'movieTitle': 'Munna Bhai M.B.B.S.'},\n",
       " {'movieTitle': 'Swades'},\n",
       " {'movieTitle': 'Dil Chahta Hai'},\n",
       " {'movieTitle': 'Amores perros'},\n",
       " {'movieTitle': 'Hera Pheri'},\n",
       " {'movieTitle': 'Sarfarosh'},\n",
       " {'movieTitle': 'Lagaan: Once Upon a Time in India'},\n",
       " {'movieTitle': 'Underground'},\n",
       " {'movieTitle': 'Farewell My Concubine'},\n",
       " {'movieTitle': 'Gandhi'},\n",
       " {'movieTitle': 'Fanny and Alexander'},\n",
       " {'movieTitle': 'Stalker'},\n",
       " {'movieTitle': 'The Deer Hunter'},\n",
       " {'movieTitle': 'The Message'},\n",
       " {'movieTitle': 'Sholay'},\n",
       " {'movieTitle': 'Barry Lyndon'},\n",
       " {'movieTitle': 'The Sound of Music'},\n",
       " {'movieTitle': 'Ben-Hur'},\n",
       " {'movieTitle': 'The Best Years of Our Lives'},\n",
       " {'movieTitle': 'All Quiet on the Western Front'},\n",
       " {'movieTitle': 'RRR'},\n",
       " {'movieTitle': 'Winter Sleep'},\n",
       " {'movieTitle': 'Baahubali: The Beginning'},\n",
       " {'movieTitle': 'Blade Runner 2049'},\n",
       " {'movieTitle': 'The Revenant'},\n",
       " {'movieTitle': \"Zack Snyder's Justice League\"},\n",
       " {'movieTitle': 'Dune'},\n",
       " {'movieTitle': 'Dogville'},\n",
       " {'movieTitle': 'Magnolia'},\n",
       " {'movieTitle': 'The Legend of 1900'},\n",
       " {'movieTitle': 'Dilwale Dulhania Le Jayenge'},\n",
       " {'movieTitle': 'Andaz Apna Apna'},\n",
       " {'movieTitle': 'Scent of a Woman'},\n",
       " {'movieTitle': 'JFK'},\n",
       " {'movieTitle': 'Dances with Wolves'},\n",
       " {'movieTitle': 'Fitzcarraldo'},\n",
       " {'movieTitle': 'Papillon'},\n",
       " {'movieTitle': 'Solaris'},\n",
       " {'movieTitle': 'Fiddler on the Roof'},\n",
       " {'movieTitle': 'Andrei Rublev'},\n",
       " {'movieTitle': 'The Leopard'},\n",
       " {'movieTitle': 'La dolce vita'},\n",
       " {'movieTitle': 'Anatomy of a Murder'},\n",
       " {'movieTitle': 'Super 30'},\n",
       " {'movieTitle': 'M.S. Dhoni: The Untold Story'},\n",
       " {'movieTitle': 'Gully Boy'},\n",
       " {'movieTitle': 'The Batman'},\n",
       " {'movieTitle': 'My Name Is Khan'},\n",
       " {'movieTitle': 'Kal Ho Naa Ho'},\n",
       " {'movieTitle': 'Titanic'},\n",
       " {'movieTitle': 'Boogie Nights'},\n",
       " {'movieTitle': 'Blood In, Blood Out'},\n",
       " {'movieTitle': 'Kagemusha'},\n",
       " {'movieTitle': 'Patton'},\n",
       " {'movieTitle': 'Doctor Zhivago'},\n",
       " {'movieTitle': 'Spartacus'},\n",
       " {'movieTitle': 'The Ten Commandments'},\n",
       " {'movieTitle': 'Elvis'},\n",
       " {'movieTitle': 'The Hateful Eight'},\n",
       " {'movieTitle': 'Once Upon a Time in Anatolia'},\n",
       " {'movieTitle': 'The Girl with the Dragon Tattoo'},\n",
       " {'movieTitle': 'The Irishman'},\n",
       " {'movieTitle': 'A Prophet'},\n",
       " {'movieTitle': 'The Hobbit: The Desolation of Smaug'},\n",
       " {'movieTitle': 'The Girl with the Dragon Tattoo'},\n",
       " {'movieTitle': 'The Hobbit: An Unexpected Journey'},\n",
       " {'movieTitle': 'American Gangster'},\n",
       " {'movieTitle': 'Avatar'},\n",
       " {'movieTitle': 'The Curious Case of Benjamin Button'},\n",
       " {'movieTitle': 'Veer-Zaara'},\n",
       " {'movieTitle': 'The Last Samurai'},\n",
       " {'movieTitle': 'The Insider'},\n",
       " {'movieTitle': 'Hamlet'},\n",
       " {'movieTitle': 'Breaking the Waves'},\n",
       " {'movieTitle': 'The Right Stuff'},\n",
       " {'movieTitle': 'My Fair Lady'},\n",
       " {'movieTitle': 'Blue Is the Warmest Colour'},\n",
       " {'movieTitle': 'Zodiac'},\n",
       " {'movieTitle': 'Harry Potter and the Goblet of Fire'},\n",
       " {'movieTitle': 'Short Cuts'},\n",
       " {'movieTitle': 'Malcolm X'},\n",
       " {'movieTitle': 'The Last Emperor'},\n",
       " {'movieTitle': 'Empire of the Sun'},\n",
       " {'movieTitle': 'The Color Purple'},\n",
       " {'movieTitle': 'Nashville'},\n",
       " {'movieTitle': 'The Longest Day'},\n",
       " {'movieTitle': 'Once Upon a Time... In Hollywood'},\n",
       " {'movieTitle': 'Watchmen'},\n",
       " {'movieTitle': \"Harry Potter and the Sorcerer's Stone\"},\n",
       " {'movieTitle': 'The Thin Red Line'},\n",
       " {'movieTitle': 'The Godfather: Part III'},\n",
       " {'movieTitle': 'Where Eagles Dare'}]"
      ]
     },
     "execution_count": 12,
     "metadata": {},
     "output_type": "execute_result"
    }
   ],
   "source": [
    "#  — Prueba Cypher directo\n",
    "res = graph.query(\"\"\"\n",
    "MATCH (m:Movie)\n",
    "WHERE m.runtimeMin > 150\n",
    "RETURN m.title AS movieTitle\n",
    "\"\"\")\n",
    "res"
   ]
  },
  {
   "cell_type": "code",
   "execution_count": 13,
   "id": "16ebf037",
   "metadata": {},
   "outputs": [
    {
     "name": "stdout",
     "output_type": "stream",
     "text": [
      "— Cypher generado —\n",
      "MATCH (m:Movie)-[:RELEASED_IN]->(y:Year {value: 2016})\n",
      "RETURN m.title AS movieName\n",
      "———————\n"
     ]
    },
    {
     "data": {
      "text/plain": [
       "'Las películas creadas en 2016 son: \"Your Name.\", \"Dangal\", \"A Silent Voice: The Movie\", \"The Handmaiden\", \"Hacksaw Ridge\", \"The Invisible Guest\", \"La La Land\", \"Lion\", \"Zootopia\", \"Deadpool\", \"Airlift\", \"M.S. Dhoni: The Untold Story\", \"Sing Street\", \"I, Daniel Blake\", \"Hidden Figures\", \"Hunt for the Wilderpeople\", \"Manchester by the Sea\", \"Rogue One: A Star Wars Story\", \"Captain Fantastic\" y \"Captain America: Civil War\".'"
      ]
     },
     "execution_count": 13,
     "metadata": {},
     "output_type": "execute_result"
    }
   ],
   "source": [
    "#  — Prueba NL→Cypher\n",
    "out = answer_question(\"Qué películas fueron creadas en 2016 y cuáles son sus nombres?\")\n",
    "out[\"answer\"]"
   ]
  },
  {
   "cell_type": "code",
   "execution_count": 14,
   "id": "d43b9184",
   "metadata": {},
   "outputs": [
    {
     "data": {
      "text/plain": [
       "[{'movieName': 'Your Name.'},\n",
       " {'movieName': 'Dangal'},\n",
       " {'movieName': 'A Silent Voice: The Movie'},\n",
       " {'movieName': 'The Handmaiden'},\n",
       " {'movieName': 'Hacksaw Ridge'},\n",
       " {'movieName': 'The Invisible Guest'},\n",
       " {'movieName': 'La La Land'},\n",
       " {'movieName': 'Lion'},\n",
       " {'movieName': 'Zootopia'},\n",
       " {'movieName': 'Deadpool'},\n",
       " {'movieName': 'Airlift'},\n",
       " {'movieName': 'M.S. Dhoni: The Untold Story'},\n",
       " {'movieName': 'Sing Street'},\n",
       " {'movieName': 'I, Daniel Blake'},\n",
       " {'movieName': 'Hidden Figures'},\n",
       " {'movieName': 'Hunt for the Wilderpeople'},\n",
       " {'movieName': 'Manchester by the Sea'},\n",
       " {'movieName': 'Rogue One: A Star Wars Story'},\n",
       " {'movieName': 'Captain Fantastic'},\n",
       " {'movieName': 'Captain America: Civil War'},\n",
       " {'movieName': 'The Salesman'},\n",
       " {'movieName': 'Perfect Strangers'},\n",
       " {'movieName': 'Udta Punjab'},\n",
       " {'movieName': 'Kubo and the Two Strings'}]"
      ]
     },
     "execution_count": 14,
     "metadata": {},
     "output_type": "execute_result"
    }
   ],
   "source": [
    "#  — Prueba Cypher directo\n",
    "res = graph.query(\"\"\"\n",
    "MATCH (m:Movie)-[:RELEASED_IN]->(y:Year {value: 2016})\n",
    "RETURN m.title AS movieName\n",
    "\"\"\")\n",
    "res"
   ]
  },
  {
   "cell_type": "code",
   "execution_count": 17,
   "id": "aadf1731",
   "metadata": {},
   "outputs": [
    {
     "name": "stdout",
     "output_type": "stream",
     "text": [
      "— Cypher generado —\n",
      "MATCH (m:Movie)-[:RELEASED_IN]->(y:Year)\n",
      "WITH y.value AS year, COUNT(m) AS movieCount\n",
      "ORDER BY movieCount DESC, year DESC\n",
      "LIMIT 1\n",
      "RETURN year, movieCount\n",
      "———————\n"
     ]
    },
    {
     "data": {
      "text/plain": [
       "'Con los datos proporcionados, el año con más películas estrenadas es 2014, con 29 películas.'"
      ]
     },
     "execution_count": 17,
     "metadata": {},
     "output_type": "execute_result"
    }
   ],
   "source": [
    "#  — Prueba NL→Cypher\n",
    "out = answer_question(\"¿Cuál es el año con más películas estrenadas, si empatan dame el año más reciente?\")\n",
    "out[\"answer\"]"
   ]
  },
  {
   "cell_type": "code",
   "execution_count": 19,
   "id": "17952de9",
   "metadata": {},
   "outputs": [
    {
     "data": {
      "text/plain": [
       "[{'year': 2014, 'num': 29},\n",
       " {'year': 2004, 'num': 29},\n",
       " {'year': 2009, 'num': 26},\n",
       " {'year': 2019, 'num': 25},\n",
       " {'year': 2013, 'num': 25},\n",
       " {'year': 2006, 'num': 25},\n",
       " {'year': 2001, 'num': 25},\n",
       " {'year': 2016, 'num': 24},\n",
       " {'year': 2007, 'num': 24},\n",
       " {'year': 2012, 'num': 23}]"
      ]
     },
     "execution_count": 19,
     "metadata": {},
     "output_type": "execute_result"
    }
   ],
   "source": [
    "#  — Prueba Cypher directo\n",
    "res = graph.query(\"\"\"\n",
    "MATCH (:Movie)-[:RELEASED_IN]->(y:Year)\n",
    "RETURN y.value AS year, count(*) AS num\n",
    "ORDER BY num DESC, year DESC\n",
    "LIMIT 10;\n",
    "\"\"\")\n",
    "res"
   ]
  },
  {
   "cell_type": "code",
   "execution_count": 26,
   "id": "37e8c9ca",
   "metadata": {},
   "outputs": [
    {
     "name": "stdout",
     "output_type": "stream",
     "text": [
      "— Cypher generado —\n",
      "MATCH (m:Movie)-[:RELEASED_IN]->(y:Year)-[:IN_DECADE]->(d:Decade)\n",
      "WITH d.value AS decade, m\n",
      "ORDER BY m.imdbRating DESC, m.votes DESC\n",
      "WITH decade, collect(m)[0..3] AS topMovies\n",
      "UNWIND topMovies AS movie\n",
      "RETURN decade, movie.title AS title, movie.imdbRating AS rating, movie.votes AS votes\n",
      "ORDER BY decade, rating DESC, votes DESC\n",
      "———————\n"
     ]
    },
    {
     "data": {
      "text/plain": [
       "\"Aquí tienes el top 3 de películas por década según el ranking:\\n\\n1920:\\n1. Metropolis (8.3)\\n2. The Kid (8.3)\\n3. The Passion of Joan of Arc (8.2)\\n\\n1930:\\n1. Modern Times (8.5)\\n2. City Lights (8.5)\\n3. M (8.3)\\n\\n1940:\\n1. It's a Wonderful Life (8.6)\\n2. Casablanca (8.5)\\n3. The Great Dictator (8.4)\\n\\n1950:\\n1. 12 Angry Men (9.0)\\n2. Seven Samurai (8.6)\\n3. Rear Window (8.5)\\n\\n1960:\\n1. The Good, the Bad and the Ugly (8.8)\\n2. Harakiri (8.6)\\n3. Once Upon a Time in the West (8.5)\\n\\n1970:\\n1. The Godfather (9.2)\\n2. The Godfather: Part II (9.0)\\n3. One Flew Over the Cuckoo's Nest (8.7)\\n\\n1980:\\n1. Star Wars: Episode V - The Empire Strikes Back (8.7)\\n2. Cinema Paradiso (8.5)  \\n(No hay tercera película en los datos para esta década)\""
      ]
     },
     "execution_count": 26,
     "metadata": {},
     "output_type": "execute_result"
    }
   ],
   "source": [
    "#  — Prueba NL→Cypher\n",
    "out = answer_question(\"Quiero que me des un top 3 de peliculas de cada década basándote en el ranking\")\n",
    "out[\"answer\"]"
   ]
  },
  {
   "cell_type": "code",
   "execution_count": 27,
   "id": "dfe9cccb",
   "metadata": {},
   "outputs": [
    {
     "data": {
      "text/plain": [
       "[{'decade': 1920,\n",
       "  'top3': [{'title': 'Metropolis', 'votes': 34709, 'rating': 8.3},\n",
       "   {'title': 'The Kid', 'votes': 34709, 'rating': 8.3},\n",
       "   {'title': 'The Passion of Joan of Arc', 'votes': 34709, 'rating': 8.2}]},\n",
       " {'decade': 1930,\n",
       "  'top3': [{'title': 'Modern Times', 'votes': 34709, 'rating': 8.5},\n",
       "   {'title': 'City Lights', 'votes': 34709, 'rating': 8.5},\n",
       "   {'title': 'M', 'votes': 34709, 'rating': 8.3}]},\n",
       " {'decade': 1940,\n",
       "  'top3': [{'title': \"It's a Wonderful Life\", 'votes': 34709, 'rating': 8.6},\n",
       "   {'title': 'Casablanca', 'votes': 34709, 'rating': 8.5},\n",
       "   {'title': 'The Great Dictator', 'votes': 34709, 'rating': 8.4}]},\n",
       " {'decade': 1950,\n",
       "  'top3': [{'title': '12 Angry Men', 'votes': 34709, 'rating': 9.0},\n",
       "   {'title': 'Seven Samurai', 'votes': 34709, 'rating': 8.6},\n",
       "   {'title': 'Rear Window', 'votes': 34709, 'rating': 8.5}]},\n",
       " {'decade': 1960,\n",
       "  'top3': [{'title': 'The Good, the Bad and the Ugly',\n",
       "    'votes': 34709,\n",
       "    'rating': 8.8},\n",
       "   {'title': 'Harakiri', 'votes': 34709, 'rating': 8.6},\n",
       "   {'title': 'Once Upon a Time in the West', 'votes': 34709, 'rating': 8.5}]},\n",
       " {'decade': 1970,\n",
       "  'top3': [{'title': 'The Godfather', 'votes': 34709, 'rating': 9.2},\n",
       "   {'title': 'The Godfather: Part II', 'votes': 34709, 'rating': 9.0},\n",
       "   {'title': \"One Flew Over the Cuckoo's Nest\",\n",
       "    'votes': 34709,\n",
       "    'rating': 8.7}]},\n",
       " {'decade': 1980,\n",
       "  'top3': [{'title': 'Star Wars: Episode V - The Empire Strikes Back',\n",
       "    'votes': 34709,\n",
       "    'rating': 8.7},\n",
       "   {'title': 'Cinema Paradiso', 'votes': 34709, 'rating': 8.5},\n",
       "   {'title': 'Grave of the Fireflies', 'votes': 34709, 'rating': 8.5}]},\n",
       " {'decade': 1990,\n",
       "  'top3': [{'title': 'The Shawshank Redemption',\n",
       "    'votes': 34709,\n",
       "    'rating': 9.3},\n",
       "   {'title': \"Schindler's List\", 'votes': 34709, 'rating': 9.0},\n",
       "   {'title': 'Pulp Fiction', 'votes': 34709, 'rating': 8.9}]},\n",
       " {'decade': 2000,\n",
       "  'top3': [{'title': 'The Dark Knight', 'votes': 34709, 'rating': 9.0},\n",
       "   {'title': 'The Lord of the Rings: The Return of the King',\n",
       "    'votes': 34709,\n",
       "    'rating': 9.0},\n",
       "   {'title': 'The Lord of the Rings: The Two Towers',\n",
       "    'votes': 34709,\n",
       "    'rating': 8.8}]},\n",
       " {'decade': 2010,\n",
       "  'top3': [{'title': 'Inception', 'votes': 34709, 'rating': 8.8},\n",
       "   {'title': 'Interstellar', 'votes': 34709, 'rating': 8.6},\n",
       "   {'title': 'Whiplash', 'votes': 34709, 'rating': 8.5}]},\n",
       " {'decade': 2020,\n",
       "  'top3': [{'title': 'Jai Bhim', 'votes': 34709, 'rating': 8.9},\n",
       "   {'title': 'Soorarai Pottru', 'votes': 34709, 'rating': 8.7},\n",
       "   {'title': 'Vikram', 'votes': 34709, 'rating': 8.6}]}]"
      ]
     },
     "execution_count": 27,
     "metadata": {},
     "output_type": "execute_result"
    }
   ],
   "source": [
    "#  — Prueba Cypher directo\n",
    "res = graph.query(\"\"\"\n",
    "MATCH (m:Movie)-[:RELEASED_IN]->(:Year)-[:IN_DECADE]->(d:Decade)\n",
    "WITH d.value AS decade, m\n",
    "ORDER BY m.imdbRating DESC, m.votes DESC\n",
    "WITH decade, collect({title:m.title, rating:m.imdbRating, votes:m.votes})[0..3] AS top3\n",
    "RETURN decade, top3\n",
    "ORDER BY decade;\n",
    "\"\"\")\n",
    "res"
   ]
  },
  {
   "cell_type": "code",
   "execution_count": 20,
   "id": "36462f82",
   "metadata": {},
   "outputs": [
    {
     "name": "stdout",
     "output_type": "stream",
     "text": [
      "— Cypher generado —\n",
      "MATCH (m:Movie)\n",
      "WHERE m.imdbRating IS NOT NULL AND m.votes IS NOT NULL\n",
      "WITH m\n",
      "ORDER BY m.imdbRating DESC, m.votes ASC\n",
      "RETURN m.title AS Title, m.imdbRating AS Rating, m.votes AS Votes\n",
      "LIMIT 10\n",
      "———————\n"
     ]
    },
    {
     "data": {
      "text/plain": [
       "'Todas las películas listadas tienen ratings muy altos (entre 8.8 y 9.3), pero todas cuentan con el mismo número de votos (34,709), por lo que no hay películas con pocos votos dentro de estos datos.'"
      ]
     },
     "execution_count": 20,
     "metadata": {},
     "output_type": "execute_result"
    }
   ],
   "source": [
    "#  — Prueba NL→Cypher\n",
    "\n",
    "## Joyas ocultas\n",
    "out = answer_question(\"¿Qué películas tienen los ratings más altos, pero pocos votos?\")\n",
    "out[\"answer\"]"
   ]
  },
  {
   "cell_type": "code",
   "execution_count": 21,
   "id": "7a34b1b1",
   "metadata": {},
   "outputs": [
    {
     "data": {
      "text/plain": [
       "[]"
      ]
     },
     "execution_count": 21,
     "metadata": {},
     "output_type": "execute_result"
    }
   ],
   "source": [
    "#  — Prueba Cypher directo\n",
    "\n",
    "## Joyas ocultas\n",
    "res = graph.query(\"\"\"\n",
    "MATCH (m:Movie)\n",
    "WHERE m.imdbRating >= 8.5 AND m.votes < 20000\n",
    "RETURN m.title AS title, m.imdbRating AS rating, m.votes AS votes, m.year AS year\n",
    "ORDER BY rating DESC, votes ASC\n",
    "LIMIT 15;\n",
    "\"\"\")\n",
    "res"
   ]
  },
  {
   "cell_type": "markdown",
   "id": "393709ca",
   "metadata": {},
   "source": [
    "## 10) Troubleshooting\n",
    "- `AuthenticationError`: revisa `NEO4J_URI`, `NEO4J_USERNAME`, `NEO4J_PASSWORD` (usa `neo4j+s://` con Aura).  \n",
    "- `ServiceUnavailable`: problemas de red/URI o instancia parada.  \n",
    "- **El Cypher no se ve**: aquí se imprime antes de ejecutar (`answer_question(..., show_cypher=True)`).  \n",
    "- **LLM propone escritura**: tu validador la detecta y lanza error."
   ]
  }
 ],
 "metadata": {
  "kernelspec": {
   "display_name": "unex25",
   "language": "python",
   "name": "python3"
  },
  "language_info": {
   "codemirror_mode": {
    "name": "ipython",
    "version": 3
   },
   "file_extension": ".py",
   "mimetype": "text/x-python",
   "name": "python",
   "nbconvert_exporter": "python",
   "pygments_lexer": "ipython3",
   "version": "3.10.18"
  }
 },
 "nbformat": 4,
 "nbformat_minor": 5
}
