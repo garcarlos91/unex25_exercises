{
 "cells": [
  {
   "cell_type": "markdown",
   "id": "e00676ae",
   "metadata": {},
   "source": [
    "# ✍️ AuraDB — OpenAI RAG (Ejercicio de **consultas**) con LangChain\n",
    "Cuaderno de **alumno** para consultar un grafo **ya creado** en *Neo4j AuraDB* (IMDB).  \n",
    "Usaremos **LangChain + OpenAI** para NL→Cypher y responder en español.\n",
    "\n",
    "**Estructura de cada sección:**  \n",
    "- Explicación + **Pistas clave**  \n",
    "- Celda de **código con TODOs** (tú la completas)  \n",
    "- **### Solución (mostrar/ocultar)** y una celda con la **solución ejecutable**"
   ]
  },
  {
   "cell_type": "markdown",
   "id": "03dcdd3e",
   "metadata": {},
   "source": [
    "## ▶️ Instalación rápida\n",
    "**Docs útiles**\n",
    "- AuraDB (conectar apps): https://neo4j.com/docs/aura/connecting-applications/overview/  \n",
    "- Neo4j Python Driver: https://neo4j.com/docs/python-manual/current/  \n",
    "- LangChain (Neo4j): https://python.langchain.com/docs/integrations/graphs/neo4j  \n",
    "- Prompt templates: https://python.langchain.com/docs/guides/prompt_templates/"
   ]
  },
  {
   "cell_type": "code",
   "execution_count": null,
   "id": "1f36c368",
   "metadata": {},
   "outputs": [],
   "source": [
    "# Recomendado: ejecutar esta celda primero (reinicia kernel si actualiza mucho)\n",
    "%pip install -q python-dotenv neo4j langchain langchain-community langchain-openai tiktoken"
   ]
  },
  {
   "cell_type": "markdown",
   "id": "02848622",
   "metadata": {},
   "source": [
    "## 1) Configuración inicial (API Keys + modelo + conexión Neo4j)\n",
    "**Objetivo:** preparar imports, cargar `.env`, configurar **OpenAI** y crear el conector `Neo4jGraph` (solo lectura).\n",
    "\n",
    "**Pistas clave**\n",
    "- `from dotenv import load_dotenv`; `load_dotenv()`  \n",
    "- Variables: `OPENAI_API_KEY`, `OPENAI_MODEL` (`gpt-4.1-mini`)  \n",
    "- `from langchain_openai import ChatOpenAI` + `os.environ[\"OPENAI_API_KEY\"] = ...`  \n",
    "- `from langchain_community.graphs import Neo4jGraph` y `Neo4jGraph(url=..., username=..., password=...)`  \n",
    "- Prueba: `graph.query(\"RETURN 1 AS ok\")`"
   ]
  },
  {
   "cell_type": "code",
   "execution_count": null,
   "id": "5009e197",
   "metadata": {},
   "outputs": [],
   "source": [
    "# TODO (Config inicial)\n",
    "# 1) Imports y .env\n",
    "# import os\n",
    "# from dotenv import load_dotenv\n",
    "# load_dotenv()\n",
    "\n",
    "# 2) Lee variables (o pon valores directos para pruebas)\n",
    "# OPENAI_API_KEY = os.getenv(\"OPENAI_API_KEY\") or \"<tu-openai-key>\"\n",
    "# OPENAI_MODEL   = os.getenv(\"OPENAI_MODEL\")   or \"gpt-4.1-mini\"\n",
    "# NEO4J_URI      = os.getenv(\"NEO4J_URI\")      or \"neo4j+s://<tu-host>.databases.neo4j.io\"\n",
    "# NEO4J_USERNAME = os.getenv(\"NEO4J_USERNAME\") or \"neo4j\"\n",
    "# NEO4J_PASSWORD = os.getenv(\"NEO4J_PASSWORD\") or \"<tu-contraseña>\"\n",
    "\n",
    "# 3) OpenAI (LangChain)\n",
    "# from langchain_openai import ChatOpenAI\n",
    "# os.environ[\"OPENAI_API_KEY\"] = OPENAI_API_KEY\n",
    "\n",
    "\n",
    "# 4) Conexión a AuraDB (solo lectura)\n",
    "# from langchain_community.graphs import Neo4jGraph\n",
    "\n",
    "# graph.query(\"RETURN 1 AS ok\")"
   ]
  },
  {
   "cell_type": "markdown",
   "id": "8dff721c",
   "metadata": {},
   "source": [
    "## 2) Esquema del grafo (solo lectura)\n",
    "**Objetivo:** refrescar e inspeccionar el esquema para guiar la generación de Cypher.\n",
    "\n",
    "**Pistas clave**\n",
    "- `graph.refresh_schema()`  \n",
    "- `print(graph.schema[:1000])`"
   ]
  },
  {
   "cell_type": "code",
   "execution_count": null,
   "id": "f265a6bd",
   "metadata": {},
   "outputs": [],
   "source": [
    "# TODO (Esquema)\n",
    "# graph.refresh_schema()\n",
    "# print(graph.schema[:1000] + (\"...\" if len(graph.schema) > 1000 else \"\"))"
   ]
  },
  {
   "cell_type": "markdown",
   "id": "200e292c",
   "metadata": {},
   "source": [
    "## 3) Prompt de generación de Cypher (solo lectura)\n",
    "**Objetivo:** construir un `PromptTemplate` que **prohíba escrituras** y use `{schema}` y `{question}`.\n",
    "\n",
    "**Pistas clave**\n",
    "- `from langchain.prompts import PromptTemplate`  \n",
    "- `input_variables=[\"schema\",\"question\"]`  \n",
    "- Incluir: “NO usar CREATE/MERGE/SET/DELETE/REMOVE/DROP/LOAD CSV”"
   ]
  },
  {
   "cell_type": "code",
   "execution_count": null,
   "id": "aaf84b90",
   "metadata": {},
   "outputs": [],
   "source": [
    "# TODO (Prompt Cypher)\n",
    "# from langchain.prompts import PromptTemplate\n",
    "# Usa las variables \"schema\" y \"question\""
   ]
  },
  {
   "cell_type": "markdown",
   "id": "55c0e7ff",
   "metadata": {},
   "source": [
    "## 4) Utilidad `clean_fences(text)`\n",
    "**Objetivo:** si el LLM devuelve ```cypher ...```, quitar fences y etiquetas para quedarnos solo con el Cypher.\n",
    "\n",
    "**Pistas clave**\n",
    "- `text.strip()` y `splitlines()`  "
   ]
  },
  {
   "cell_type": "code",
   "execution_count": null,
   "id": "c1f971a7",
   "metadata": {},
   "outputs": [],
   "source": [
    "# TODO (clean_fences)\n",
    "# def clean_fences(text: str) -> str:\n",
    "#     # 1) strip\n",
    "#     # 2) si empieza por ``` quitar fences\n",
    "#     # 3) si la primera línea no empieza por MATCH/CALL/RETURN/WITH, saltarla\n",
    "#     # 4) unir líneas\n",
    "#     # return text_limpio\n",
    "#     ..."
   ]
  },
  {
   "cell_type": "markdown",
   "id": "9ffec335",
   "metadata": {},
   "source": [
    "## 5) Validador: **solo lectura**\n",
    "**Objetivo:** rechazar Cypher con escrituras (CREATE/MERGE/SET/DELETE/REMOVE/DROP/LOAD CSV / CALL dbms...).\n",
    "\n",
    "**Pistas clave**\n",
    "- `import re` + `re.compile(r\"...\", re.IGNORECASE)`  \n",
    "- Función `is_read_only(cy: str) -> bool` que busca con `.search(...)`\n",
    "- Si empieza por ```, quitar backticks y primera línea si no empieza por `MATCH/CALL/RETURN/WITH`"
   ]
  },
  {
   "cell_type": "code",
   "execution_count": null,
   "id": "4f05bb93",
   "metadata": {},
   "outputs": [],
   "source": [
    "# TODO (solo-lectura)\n",
    "# import re\n",
    "# READ_ONLY_PATTERN = re.compile(r\"...\", re.IGNORECASE)  # palabras prohibidas\n",
    "# def is_read_only(cy: str) -> bool:\n",
    "#     # True si NO hay match\n",
    "#     # return not bool( ... )\n",
    "#     ..."
   ]
  },
  {
   "cell_type": "markdown",
   "id": "36d93d88",
   "metadata": {},
   "source": [
    "## 6) Función `generate_cypher(llm, schema, question)`\n",
    "**Objetivo:** construir el prompt, invocar el LLM, limpiar fences y validar que sea **solo lectura**.\n",
    "\n",
    "**Pistas clave**\n",
    "- `prompt = CYTHER_PROMPT_TMPL.format(schema=schema, question=question)`  \n",
    "- `text = llm.invoke(prompt).content`  \n",
    "- `cy = clean_fences(text)` y `is_read_only(cy)`"
   ]
  },
  {
   "cell_type": "code",
   "execution_count": null,
   "id": "96779910",
   "metadata": {},
   "outputs": [],
   "source": [
    "# TODO (generate_cypher)\n",
    "# def generate_cypher(llm, schema: str, question: str) -> str:\n",
    "#     # prompt = ...\n",
    "#     # text   = ...\n",
    "#     # cy     = ...\n",
    "#     # if not is_read_only(cy): raise ValueError(...)\n",
    "#     # return cy\n",
    "#     ..."
   ]
  },
  {
   "cell_type": "markdown",
   "id": "9bdc5a82",
   "metadata": {},
   "source": [
    "## 7) Función `run_cypher(graph, cypher)`\n",
    "**Objetivo:** ejecutar la consulta de solo lectura y devolver registros (lista de dicts).\n",
    "\n",
    "**Pistas clave**\n",
    "- `graph.query(cypher, params or {})`"
   ]
  },
  {
   "cell_type": "code",
   "execution_count": null,
   "id": "0dfae7e5",
   "metadata": {},
   "outputs": [],
   "source": [
    "# TODO (run_cypher)\n",
    "# def run_cypher(graph, cypher: str, params=None):\n",
    "#     # return graph.query(...)\n",
    "#     ..."
   ]
  },
  {
   "cell_type": "markdown",
   "id": "36ccd060",
   "metadata": {},
   "source": [
    "## 8) Función `answer_question(question)`\n",
    "**Objetivo:** generar Cypher, **imprimirlo**, ejecutarlo y resumir con el LLM en español.\n",
    "\n",
    "**Pistas clave**\n",
    "- `cy = generate_cypher(llm, graph.schema, question)`  \n",
    "- `print(cy)` antes de ejecutar  \n",
    "- `rows = run_cypher(graph, cy)`  \n",
    "- `PromptTemplate` para redactar respuesta corta a partir de filas"
   ]
  },
  {
   "cell_type": "code",
   "execution_count": null,
   "id": "cb3e96e3",
   "metadata": {},
   "outputs": [],
   "source": [
    "# TODO (answer_question)\n",
    "\n",
    "# ANSWER_PROMPT_TMPL = (\n",
    "#     input_variables=[\"question\",\"rows\"],\n",
    "#     template=(\n",
    "#     )\n",
    "# )\n",
    "# def answer_question(question: str, max_rows: int = 20, show_cypher: bool = True):\n",
    "#     # cy = ...\n",
    "#     # if show_cypher: print(\"— Cypher generado —\"); print(cy); print(\"———————\")\n",
    "#     # rows = ...\n",
    "#     # short_rows = rows[:max_rows]\n",
    "#     # ans = llm.invoke(ANSWER_PROMPT_TMPL.format(question=question, rows=short_rows)).content\n",
    "#     # return {\"cypher\": cy, \"rows\": rows, \"answer\": ans}\n",
    "#     ..."
   ]
  },
  {
   "cell_type": "markdown",
   "id": "7d1bad3d",
   "metadata": {},
   "source": [
    "### Solución (mostrar/ocultar)"
   ]
  },
  {
   "cell_type": "markdown",
   "id": "ac922f54",
   "metadata": {},
   "source": [
    "## 9) Pruebas guiadas\n",
    "Ejecuta estas pruebas cuando termines los ejercicios."
   ]
  },
  {
   "cell_type": "code",
   "execution_count": null,
   "id": "4476531e",
   "metadata": {},
   "outputs": [],
   "source": [
    "#  — Prueba NL→Cypher\n"
   ]
  },
  {
   "cell_type": "code",
   "execution_count": null,
   "id": "8000c8be",
   "metadata": {},
   "outputs": [],
   "source": [
    "#  — Prueba Cypher directo\n"
   ]
  },
  {
   "cell_type": "markdown",
   "id": "393709ca",
   "metadata": {},
   "source": [
    "## 10) Troubleshooting\n",
    "- `AuthenticationError`: revisa `NEO4J_URI`, `NEO4J_USERNAME`, `NEO4J_PASSWORD` (usa `neo4j+s://` con Aura).  \n",
    "- `ServiceUnavailable`: problemas de red/URI o instancia parada.  \n",
    "- **El Cypher no se ve**: aquí se imprime antes de ejecutar (`answer_question(..., show_cypher=True)`).  \n",
    "- **LLM propone escritura**: tu validador la detecta y lanza error."
   ]
  }
 ],
 "metadata": {
  "kernelspec": {
   "display_name": "auradb",
   "language": "python",
   "name": "python3"
  },
  "language_info": {
   "codemirror_mode": {
    "name": "ipython",
    "version": 3
   },
   "file_extension": ".py",
   "mimetype": "text/x-python",
   "name": "python",
   "nbconvert_exporter": "python",
   "pygments_lexer": "ipython3",
   "version": "3.10.18"
  }
 },
 "nbformat": 4,
 "nbformat_minor": 5
}
