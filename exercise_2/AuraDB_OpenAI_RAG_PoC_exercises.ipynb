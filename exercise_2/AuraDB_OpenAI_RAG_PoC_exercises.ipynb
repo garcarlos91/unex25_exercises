{
 "cells": [
  {
   "cell_type": "markdown",
   "id": "58d512f3",
   "metadata": {},
   "source": [
    "# 🧪 PoC (Alumno) — AuraDB + OpenAI (NL→Cypher) con **mínimo preprocesamiento**\n",
    "**Meta:** experimentar qué devuelve el modelo con un pipeline **muy básico** y reflexionar por qué hacen falta:\n",
    "- **limpieza de fences** (```cypher …```),\n",
    "- **bloqueo de escrituras** (CREATE/MERGE/SET/DELETE/LOAD CSV…),\n",
    "- **validación** antes de ejecutar.\n",
    "\n",
    "> Este cuaderno no incluye soluciones. Solo **pistas** y celdas con **TODO**.\n",
    "**Última actualización:** 2025-09-24 22:04 UTC"
   ]
  },
  {
   "cell_type": "markdown",
   "id": "27bb7b1a",
   "metadata": {},
   "source": [
    "## ⚠️ Aviso\n",
    "- Usaremos `DRY_RUN = True` para **NO ejecutar** lo que devuelva el LLM.\n",
    "- No cambies esto salvo que el profe lo indique explícitamente y el usuario sea **solo-lectura**."
   ]
  },
  {
   "cell_type": "markdown",
   "id": "5dde754b",
   "metadata": {},
   "source": [
    "## 1) Instalación rápida"
   ]
  },
  {
   "cell_type": "code",
   "execution_count": null,
   "id": "363d41f1",
   "metadata": {},
   "outputs": [],
   "source": [
    "# TODO: instala dependencias (usa %pip)\n",
    "# Pista: python-dotenv, neo4j, langchain, langchain-community, langchain-openai, tiktoken\n",
    "# %pip install -q ..."
   ]
  },
  {
   "cell_type": "markdown",
   "id": "c2eab1c8",
   "metadata": {},
   "source": [
    "## 2) Configuración (mínima)\n",
    "Objetivo: cargar `.env`, crear **llm** (ChatOpenAI) y **graph** (Neo4jGraph).\n",
    "\n",
    "**Pistas**\n",
    "- `from dotenv import load_dotenv`; `load_dotenv()`\n",
    "- Variables: `OPENAI_API_KEY`, `OPENAI_MODEL`, `NEO4J_URI`, `NEO4J_USERNAME`, `NEO4J_PASSWORD`\n",
    "- `from langchain_openai import ChatOpenAI` + `os.environ[\"OPENAI_API_KEY\"] = ...`\n",
    "- `from langchain_community.graphs import Neo4jGraph`"
   ]
  },
  {
   "cell_type": "code",
   "execution_count": null,
   "id": "f40b5a5a",
   "metadata": {},
   "outputs": [],
   "source": [
    "# TODO: completar configuración mínima\n",
    "# import os\n",
    "# from dotenv import load_dotenv\n",
    "# load_dotenv()\n",
    "\n",
    "# OPENAI_API_KEY = ...\n",
    "# OPENAI_MODEL   = ...\n",
    "# NEO4J_URI      = ...\n",
    "# NEO4J_USERNAME = ...\n",
    "# NEO4J_PASSWORD = ...\n",
    "\n",
    "# from langchain_openai import ChatOpenAI\n",
    "# os.environ[\"OPENAI_API_KEY\"] = OPENAI_API_KEY\n",
    "# llm = ChatOpenAI(model=OPENAI_MODEL, temperature=0)\n",
    "\n",
    "# from langchain_community.graphs import Neo4jGraph\n",
    "# graph = Neo4jGraph(url=NEO4J_URI, username=NEO4J_USERNAME, password=NEO4J_PASSWORD)\n",
    "\n",
    "# DRY_RUN = True\n",
    "# print(\"DRY_RUN =\", DRY_RUN)"
   ]
  },
  {
   "cell_type": "markdown",
   "id": "57538c06",
   "metadata": {},
   "source": [
    "## 3) Esquema del grafo (solo referencia)\n",
    "**Pista:** `graph.refresh_schema()` y muestra un prefijo (`[:1200]`) de `graph.schema`."
   ]
  },
  {
   "cell_type": "code",
   "execution_count": null,
   "id": "cc26993c",
   "metadata": {},
   "outputs": [],
   "source": [
    "# TODO: refresca e imprime parte del esquema\n",
    "# graph.refresh_schema()\n",
    "# print(...)"
   ]
  },
  {
   "cell_type": "markdown",
   "id": "eb0e76ad",
   "metadata": {},
   "source": [
    "## 4) Generación **naive** de Cypher\n",
    "Propósito: **no** prohibir escrituras ni limpiar fences para ver qué pasa.\n",
    "\n",
    "**Pistas**\n",
    "- Crea un `PromptTemplate` con `input_variables=[\"schema\",\"question\"]`\n",
    "- Template: \"Genera una consulta Cypher ... Esquema: {schema} ... Pregunta: {question} ... Cypher:\"\n",
    "- Función `naive_generate_cypher(question)` que invoque el LLM con el prompt."
   ]
  },
  {
   "cell_type": "code",
   "execution_count": null,
   "id": "6d2bb67d",
   "metadata": {},
   "outputs": [],
   "source": [
    "# TODO: crear NAIVE_PROMPT y naive_generate_cypher\n",
    "# from langchain.prompts import PromptTemplate\n",
    "# NAIVE_PROMPT = PromptTemplate(...)\n",
    "# def naive_generate_cypher(question: str) -> str:\n",
    "#     ..."
   ]
  },
  {
   "cell_type": "markdown",
   "id": "240710e9",
   "metadata": {},
   "source": [
    "## 5) Ejecutor **naive** (imprime y, si se decide, ejecuta)\n",
    "Por defecto, no ejecutaremos (DRY_RUN=True). Solo **imprime** el Cypher devuelto.\n",
    "\n",
    "**Pistas**\n",
    "- `naive_run(q)` debe:\n",
    "  1) Obtener texto con `naive_generate_cypher(q)`\n",
    "  2) Imprimirlo tal cual (posibles ``` o comandos peligrosos)\n",
    "  3) Si `DRY_RUN` → devolver un dict con el texto y aviso\n",
    "  4) Si no, ejecutar `graph.query(cy_text)` en `try/except`"
   ]
  },
  {
   "cell_type": "code",
   "execution_count": null,
   "id": "d3bb7434",
   "metadata": {},
   "outputs": [],
   "source": [
    "# TODO: implementar naive_run\n",
    "# def naive_run(question: str):\n",
    "#     ..."
   ]
  },
  {
   "cell_type": "markdown",
   "id": "216b540c",
   "metadata": {},
   "source": [
    "## 6) Demostración A — Caso **benigno** (lectura)\n",
    "Pide algo sencillo, por ejemplo: *\"Dame el top 5 de películas por rating.\"*\n",
    "\n",
    "**Objetivo**\n",
    "- Ver si el modelo devuelve una consulta limpia o con fences (```).\n",
    "- Observar diferencias de estilo/estructura."
   ]
  },
  {
   "cell_type": "code",
   "execution_count": null,
   "id": "7c6c53b6",
   "metadata": {},
   "outputs": [],
   "source": [
    "# TODO: ejecuta naive_run con una pregunta de solo lectura\n",
    "# out_a = naive_run(\"...\")\n",
    "# out_a"
   ]
  },
  {
   "cell_type": "markdown",
   "id": "d14e82fc",
   "metadata": {},
   "source": [
    "## 7) Demostración B — Caso **peligroso** (escritura)\n",
    "Pide algo explícitamente destructivo, p. ej.: *\"Crea una película de prueba...\"*\n",
    "\n",
    "**Objetivo**\n",
    "- Comprobar si el LLM devuelve `CREATE/MERGE/SET/DELETE/...`.\n",
    "- Entender por qué hay que **bloquear escrituras** antes de ejecutar."
   ]
  },
  {
   "cell_type": "markdown",
   "id": "b9b2580b",
   "metadata": {},
   "source": [
    "## 8) Demostración C — Problema de fences (```cypher)\n",
    "Muchos modelos envían la respuesta en un bloque con ``` que **rompe** la ejecución directa.\n",
    "\n",
    "**Objetivo**\n",
    "- Observar el problema y razonar cómo limpiarlo mínimamente."
   ]
  },
  {
   "cell_type": "code",
   "execution_count": null,
   "id": "12cd69af",
   "metadata": {},
   "outputs": [],
   "source": [
    "# TODO: ejecuta naive_run con otra pregunta de conteo (COUNT) y observa el formato\n",
    "# out_c = naive_run(\"...\")\n",
    "# out_c"
   ]
  },
  {
   "cell_type": "markdown",
   "id": "934dc672",
   "metadata": {},
   "source": [
    "## 9) Alternativa **mínima** más segura (solo lectura + limpieza superficial)\n",
    "**Sin dar la solución**, diseña dos funciones:\n",
    "1) `strip_fences(text)` — Elimina ``` al inicio/fin y descarta la etiqueta inicial (p. ej., `cypher`).\n",
    "   - Pista: `.strip()`, `.startswith(\"```\")`, `.splitlines()`\n",
    "2) `minimally_safe_generate(question)` — Usa tu naive, limpia con `strip_fences`, y **si** detectas palabras prohibidas (`CREATE|MERGE|SET|DELETE|REMOVE|DROP|LOAD CSV`), **lanza error** para proteger la BD.\n",
    "3) `minimally_safe_run(question)` — Igual que `naive_run`, pero usando la versión “limpia y solo-lectura”."
   ]
  },
  {
   "cell_type": "code",
   "execution_count": null,
   "id": "4e386e17",
   "metadata": {},
   "outputs": [],
   "source": [
    "# TODO: implementar strip_fences, minimally_safe_generate y minimally_safe_run\n",
    "# import re\n",
    "# WRITE_RE = re.compile(..., re.IGNORECASE)\n",
    "# def strip_fences(text: str) -> str:\n",
    "#     ...\n",
    "# def minimally_safe_generate(question: str) -> str:\n",
    "#     ...\n",
    "# def minimally_safe_run(question: str):\n",
    "#     ..."
   ]
  },
  {
   "cell_type": "markdown",
   "id": "6341a38e",
   "metadata": {},
   "source": [
    "## 10) Comparativa — naive vs. mínimo seguro\n",
    "Usa **la misma pregunta** (p. ej., con keywords) y compara:\n",
    "- ¿Hay diferencias en el Cypher final?\n",
    "- ¿La versión segura bloquea algo? ¿Qué y por qué?"
   ]
  },
  {
   "cell_type": "code",
   "execution_count": null,
   "id": "9c373fe0",
   "metadata": {},
   "outputs": [],
   "source": [
    "# TODO: ejecuta naive_run y minimally_safe_run con la MISMA pregunta\n",
    "# print(\"### NAIVE\")\n",
    "# naive = naive_run(\"...\")\n",
    "# print(\"\\n### MIN SAFE\")\n",
    "# safe = minimally_safe_run(\"...\")\n",
    "# {\"naive\": naive, \"safe\": safe}"
   ]
  },
  {
   "cell_type": "markdown",
   "id": "67ca22c7",
   "metadata": {},
   "source": [
    "## 12) Conclusiones\n",
    "- El LLM puede devolver **fences** y **escrituras** si no lo guiamos.\n",
    "- Con dos pasos mínimos (quitar fences + bloquear escrituras) se evitan muchos problemas.\n",
    "- En el cuaderno “definitivo” se añaden más protecciones (prompts estrictos, validadores, resumen controlado)."
   ]
  },
  {
   "cell_type": "markdown",
   "id": "a71f5522",
   "metadata": {},
   "source": [
    "## 13) Documentación\n",
    "- AuraDB — conectar apps: https://neo4j.com/docs/aura/connecting-applications/overview/\n",
    "- Neo4j Python Driver: https://neo4j.com/docs/python-manual/current/\n",
    "- LangChain (Neo4j): https://python.langchain.com/docs/integrations/graphs/neo4j\n",
    "- Prompt Templates: https://python.langchain.com/docs/guides/prompt_templates/"
   ]
  }
 ],
 "metadata": {
  "kernelspec": {
   "display_name": "Python 3",
   "language": "python",
   "name": "python3"
  },
  "language_info": {
   "name": "python",
   "pygments_lexer": "ipython3"
  }
 },
 "nbformat": 4,
 "nbformat_minor": 5
}
